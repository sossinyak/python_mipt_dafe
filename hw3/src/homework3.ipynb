{
 "cells": [
  {
   "attachments": {},
   "cell_type": "markdown",
   "id": "9620a1bc",
   "metadata": {},
   "source": [
    "# Домашняя работа №3. Работа с таблицами.\n",
    "\n",
    "Прежде чем приступать к работе, прочтите README.md, который прилагается к данному домашнему заданию, и выполните все описанные в нем шаги."
   ]
  },
  {
   "attachments": {},
   "cell_type": "markdown",
   "id": "1df03406",
   "metadata": {},
   "source": [
    "**Импорт необходимых пакетов:**"
   ]
  },
  {
   "cell_type": "code",
   "execution_count": 1,
   "id": "12311126",
   "metadata": {},
   "outputs": [],
   "source": [
    "import datetime as dt\n",
    "\n",
    "from enum import Enum\n",
    "\n",
    "import matplotlib.pyplot as plt\n",
    "import pandas as pd\n",
    "import numpy as np\n",
    "\n",
    "plt.style.use('ggplot')"
   ]
  },
  {
   "attachments": {},
   "cell_type": "markdown",
   "id": "9f1f4cc9",
   "metadata": {},
   "source": [
    "**Блок констант:**"
   ]
  },
  {
   "cell_type": "code",
   "execution_count": 2,
   "id": "3eb65aa0",
   "metadata": {},
   "outputs": [],
   "source": [
    "class Colors(Enum):\n",
    "    YELLOW = 'moccasin'\n",
    "    ORANGE = 'sandybrown'\n",
    "    BROWN = 'chocolate'\n",
    "    BLUE = 'skyblue'\n",
    "    BRIGHTBLUE = 'dodgerblue'"
   ]
  },
  {
   "cell_type": "code",
   "execution_count": 3,
   "id": "5a35c4b1",
   "metadata": {},
   "outputs": [],
   "source": [
    "EXPLODE_FACTOR = 1e-4\n",
    "FIGSIZE = (8, 8)\n",
    "\n",
    "PATH_TO_TABLE = 'table.csv'"
   ]
  },
  {
   "attachments": {},
   "cell_type": "markdown",
   "id": "11dea873",
   "metadata": {},
   "source": [
    "## Чтение данных.\n",
    "\n",
    "В данном пункте вам необходимо считать таблицу `table.csv` с помощью методов Pandas."
   ]
  },
  {
   "cell_type": "code",
   "execution_count": 113,
   "id": "22e36fc8",
   "metadata": {},
   "outputs": [],
   "source": [
    "# YOUR CODE HERE"
   ]
  },
  {
   "attachments": {},
   "cell_type": "markdown",
   "id": "e967132c",
   "metadata": {},
   "source": [
    "## 0. Разминка.\n",
    "\n",
    "Необходимо двумя последовательными командами вывести сначала первые 10 строк таблицы, а затем последние 10 строк таблицы."
   ]
  },
  {
   "cell_type": "code",
   "execution_count": 6,
   "id": "a7e25642",
   "metadata": {},
   "outputs": [],
   "source": [
    "# YOUR CODE HERE"
   ]
  },
  {
   "cell_type": "code",
   "execution_count": 7,
   "id": "fd72dfd3",
   "metadata": {},
   "outputs": [],
   "source": [
    "# YOUR CODE HERE"
   ]
  },
  {
   "attachments": {},
   "cell_type": "markdown",
   "id": "174abe20",
   "metadata": {},
   "source": [
    "## 1. Проверка на пропуски и их обработка.\n",
    "\n",
    "Проверьте, есть ли в таблице NaN-значения. Для каждого столбца посчитайте число пропущенных данных. Обработайте пропуски одним из известных вам способов. Обоснуйте свой выбор."
   ]
  },
  {
   "cell_type": "code",
   "execution_count": 114,
   "id": "6abeb027",
   "metadata": {},
   "outputs": [],
   "source": [
    "# YOUR CODE HERE"
   ]
  },
  {
   "attachments": {},
   "cell_type": "markdown",
   "id": "6b03fe3c",
   "metadata": {},
   "source": [
    "**Обоснование:** *не отвечать нельзя*."
   ]
  },
  {
   "attachments": {},
   "cell_type": "markdown",
   "id": "da0d06f3",
   "metadata": {},
   "source": [
    "## 2. Проверка корректности данных."
   ]
  },
  {
   "attachments": {},
   "cell_type": "markdown",
   "id": "030ef7b4",
   "metadata": {},
   "source": [
    "### 2.1. Pacient_id.\n",
    "\n",
    "`pacient_id` - идентефикаторы пациентов, принимавших участие в исследование. Все значения в данном столбце должны быть уникальными. Проверьте, так ли это на самом деле."
   ]
  },
  {
   "cell_type": "code",
   "execution_count": 11,
   "id": "6af1e462",
   "metadata": {},
   "outputs": [],
   "source": [
    "# YOUR CODE HERE"
   ]
  },
  {
   "attachments": {},
   "cell_type": "markdown",
   "id": "49dcf285",
   "metadata": {},
   "source": [
    "### 2.2. Genders.\n",
    "\n",
    "`gender` - пол пациентов. Допустимы значения: male и female. \n",
    "\n",
    "Постройте круговую диаграмму, чтобы проверить, содержатся ли в колонке недопустимые значения и какую долю от общего числа пациентов составляют пациенты, указавшие некорректное значение пола в своей анкете."
   ]
  },
  {
   "cell_type": "code",
   "execution_count": 12,
   "id": "fdae5419",
   "metadata": {},
   "outputs": [],
   "source": [
    "# YOUR CODE HERE"
   ]
  },
  {
   "attachments": {},
   "cell_type": "markdown",
   "id": "a6d13f96",
   "metadata": {},
   "source": [
    "### 2.3. Smoking.\n",
    "\n",
    "`smoking` - информации о том, курит ли пациент или нет. Допустимые значения: yes и no.\n",
    "\n",
    "Постройте круговую диаграмму, чтобы проверить, содержатся ли в колонке недопустимые значения и какую долю от общего числа пациентов составляют пациенты, указавшие некорректные сведения о курении в своей анкете."
   ]
  },
  {
   "cell_type": "code",
   "execution_count": 13,
   "id": "6a86f3e2",
   "metadata": {},
   "outputs": [],
   "source": [
    "# YOUR CODE HERE"
   ]
  },
  {
   "attachments": {},
   "cell_type": "markdown",
   "id": "b79636ea",
   "metadata": {},
   "source": [
    "### 2.4. Obesity.\n",
    "\n",
    "`smoking` - информации о том, страдает пациент от ожирения или нет. Допустимые значения: yes и no.\n",
    "\n",
    "Постройте круговую диаграмму, чтобы проверить, содержатся ли в колонке недопустимые значения и какую долю от общего числа пациентов составляют пациенты, указавшие некорректные сведения об ожирении в своей анкете."
   ]
  },
  {
   "cell_type": "code",
   "execution_count": 14,
   "id": "4a8c5771",
   "metadata": {},
   "outputs": [],
   "source": [
    "# YOUR CODE HERE"
   ]
  },
  {
   "attachments": {},
   "cell_type": "markdown",
   "id": "6f92f81e",
   "metadata": {},
   "source": [
    "### 2.5. Diabete.\n",
    "\n",
    "`diabete` - информации о том, страдает пациент от сахарного диабета или нет. Допустимые значения: yes и no.\n",
    "\n",
    "Постройте круговую диаграмму, чтобы проверить, содержатся ли в колонке недопустимые значения и какую долю от общего числа пациентов составляют пациенты, указавшие некорректные сведения о сахарном диабете в своей анкете."
   ]
  },
  {
   "cell_type": "code",
   "execution_count": 15,
   "id": "c9686c03",
   "metadata": {},
   "outputs": [],
   "source": [
    "# YOUR CODE HERE"
   ]
  },
  {
   "attachments": {},
   "cell_type": "markdown",
   "id": "c3f91a36",
   "metadata": {},
   "source": [
    "### 2.6. Hypertension.\n",
    "\n",
    "`diabete` - информации о том, страдает пациент от гипертензии или нет. Допустимые значения: yes и no.\n",
    "\n",
    "Постройте круговую диаграмму, чтобы проверить, содержатся ли в колонке недопустимые значения и какую долю от общего числа пациентов составляют пациенты, указавшие некорректные сведения о гипертензии в своей анкете."
   ]
  },
  {
   "cell_type": "code",
   "execution_count": 16,
   "id": "56b3fe5e",
   "metadata": {},
   "outputs": [],
   "source": [
    "# YOUR CODE HERE"
   ]
  },
  {
   "attachments": {},
   "cell_type": "markdown",
   "id": "57190756",
   "metadata": {},
   "source": [
    "### 2.7. Device.\n",
    "\n",
    "`device` - информации о типе импланта. Допустимые значения: CRT, CRT-D.\n",
    "\n",
    "Постройте круговую диаграмму, чтобы проверить, содержатся ли в колонке недопустимые значения и какую долю от общего числа пациентов составляют пациенты, указавшие некорректные сведения об импланте в своей анкете."
   ]
  },
  {
   "cell_type": "code",
   "execution_count": 17,
   "id": "811fdac1",
   "metadata": {},
   "outputs": [],
   "source": [
    "# YOUR CODE HERE"
   ]
  },
  {
   "attachments": {},
   "cell_type": "markdown",
   "id": "5ad53bab",
   "metadata": {},
   "source": [
    "### 2.8. Mitral before.\n",
    "\n",
    "`mitral_before` - информации о митральной недостаточности до имплантации. Допустимые значения - числа от 0 до 4.\n",
    "\n",
    "Постройте круговую диаграмму, чтобы проверить, содержатся ли в колонке недопустимые значения и какую долю от общего числа пациентов составляют пациенты, указавшие некорректные сведения о митральной недостаточности в своей анкете."
   ]
  },
  {
   "cell_type": "code",
   "execution_count": 18,
   "id": "45fcad84",
   "metadata": {},
   "outputs": [],
   "source": [
    "# YOUR CODE HERE"
   ]
  },
  {
   "attachments": {},
   "cell_type": "markdown",
   "id": "5ab27abd",
   "metadata": {},
   "source": [
    "### 2.9. Mitral After."
   ]
  },
  {
   "attachments": {},
   "cell_type": "markdown",
   "id": "fe3f26aa",
   "metadata": {},
   "source": [
    "`mitral_after` - информации о митральной недостаточности после имплантации. Допустимые значения - числа от 0 до 4.\n",
    "\n",
    "Постройте круговую диаграмму, чтобы проверить, содержатся ли в колонке недопустимые значения и какую долю от общего числа пациентов составляют пациенты, указавшие некорректные сведения о митральной недостаточности в своей анкете."
   ]
  },
  {
   "cell_type": "code",
   "execution_count": 19,
   "id": "27488285",
   "metadata": {},
   "outputs": [],
   "source": [
    "# YOUR CODE HERE"
   ]
  },
  {
   "attachments": {},
   "cell_type": "markdown",
   "id": "bd54e2a8",
   "metadata": {},
   "source": [
    "### 2.10. FC before.\n",
    "\n",
    "`fc_before` - информации о функциональном классе пациента до имплантации. Допустимые значения - числа от 1 до 4.\n",
    "\n",
    "Постройте круговую диаграмму, чтобы проверить, содержатся ли в колонке недопустимые значения и какую долю от общего числа пациентов составляют пациенты, указавшие некорректные сведения о функциональном классе в своей анкете."
   ]
  },
  {
   "cell_type": "code",
   "execution_count": 20,
   "id": "b0fafb3e",
   "metadata": {},
   "outputs": [],
   "source": [
    "# YOUR CODE HERE"
   ]
  },
  {
   "attachments": {},
   "cell_type": "markdown",
   "id": "73f42319",
   "metadata": {},
   "source": [
    "### 2.11. FC after.\n",
    "\n",
    "`fc_after` - информации о функциональном классе пациента после имплантации. Допустимые значения - числа от 1 до 4.\n",
    "\n",
    "Постройте круговую диаграмму, чтобы проверить, содержатся ли в колонке недопустимые значения и какую долю от общего числа пациентов составляют пациенты, указавшие некорректные сведения о функциональном классе в своей анкете."
   ]
  },
  {
   "cell_type": "code",
   "execution_count": 21,
   "id": "873d72bd",
   "metadata": {},
   "outputs": [],
   "source": [
    "# YOUR CODE HERE"
   ]
  },
  {
   "attachments": {},
   "cell_type": "markdown",
   "id": "39fe6670",
   "metadata": {},
   "source": [
    "## 3. Обработка некорректных значений.\n",
    "\n",
    "Обработайте некорректные значения одним из известных вам способов. Обоснуйте выбор способа."
   ]
  },
  {
   "cell_type": "code",
   "execution_count": 22,
   "id": "35987b5c",
   "metadata": {},
   "outputs": [],
   "source": [
    "# YOUR CODE HERE"
   ]
  },
  {
   "attachments": {},
   "cell_type": "markdown",
   "id": "ef31dbaa",
   "metadata": {},
   "source": [
    "**Обоснование:** *не отвечать нельзя*."
   ]
  },
  {
   "attachments": {},
   "cell_type": "markdown",
   "id": "76a2eaa3",
   "metadata": {},
   "source": [
    "## 4. Распределния пациентов по дате рождения."
   ]
  },
  {
   "attachments": {},
   "cell_type": "markdown",
   "id": "5a10a90c",
   "metadata": {},
   "source": [
    "### 4.1. По декадам.\n",
    "\n",
    "Определите, какой процент пациентов родился в различные декады. Результат предоставьте в виде круговой диаграммы. Если для выполнения задания вам пришлось добавлять новые столбцы в таблицу, не забудьте их удалить."
   ]
  },
  {
   "cell_type": "code",
   "execution_count": 115,
   "id": "1ae5cc79",
   "metadata": {},
   "outputs": [],
   "source": [
    "# YOUR CODE HERE"
   ]
  },
  {
   "attachments": {},
   "cell_type": "markdown",
   "id": "139a7cb4",
   "metadata": {},
   "source": [
    "### 4.2. По месяцам.\n",
    "\n",
    "Определите, какой процент пациентов родился в различные месяцы. Результат предоставьте в виде круговой диаграммы. В легенде укажите не номера месяцев, а их названия. Если для выполнения задания вам пришлось добавлять новые столбцы в таблицу, не забудьте их удалить."
   ]
  },
  {
   "cell_type": "code",
   "execution_count": 116,
   "id": "4287a977",
   "metadata": {},
   "outputs": [],
   "source": [
    "# YOUR CODE HERE"
   ]
  },
  {
   "attachments": {},
   "cell_type": "markdown",
   "id": "68bf7c5c",
   "metadata": {},
   "source": [
    "### 4.3. По возрасту.\n",
    "\n",
    "Вычислите возраст каждого пациента. Постройте столбчатую диаграмму - распределение пациентов по возрасту. Если для выполнения задания вам пришлось добавлять новые столбцы в таблицу, не забудьте их удалить."
   ]
  },
  {
   "cell_type": "code",
   "execution_count": 117,
   "id": "3831cc7e",
   "metadata": {},
   "outputs": [],
   "source": [
    "# YOUR CODE HERE"
   ]
  },
  {
   "attachments": {},
   "cell_type": "markdown",
   "id": "5e7cf70a",
   "metadata": {},
   "source": [
    "### 4.4. По возрастной группе.\n",
    "\n",
    "Определите, к какой из трех возрастных групп (under 40, 40-60, over 60) принадлежит каждый пациент. Создайте новый столбец `'adge_group'`. Постройте круговую диаграмму - распределение по возрастным группам. "
   ]
  },
  {
   "cell_type": "code",
   "execution_count": 118,
   "id": "8c731b05",
   "metadata": {},
   "outputs": [],
   "source": [
    "# YOUR CODE HERE"
   ]
  },
  {
   "attachments": {},
   "cell_type": "markdown",
   "id": "475e8925",
   "metadata": {},
   "source": [
    "## 5. Факторы риска."
   ]
  },
  {
   "attachments": {},
   "cell_type": "markdown",
   "id": "71e65f67",
   "metadata": {},
   "source": [
    "### 5.1. Статистика по факторам риска.\n",
    "\n",
    "В группе риска находятся курящие люди, люди страдающие ожирением или сахарным диабетом, люди, старшие 60 лет. Постройте столбчатую диагрумму - количество пациентов, находящихся в перечисленных группах риска. "
   ]
  },
  {
   "cell_type": "code",
   "execution_count": 119,
   "id": "360524a8",
   "metadata": {},
   "outputs": [],
   "source": [
    "# YOUR CODE HERE"
   ]
  },
  {
   "attachments": {},
   "cell_type": "markdown",
   "id": "61559ca0",
   "metadata": {},
   "source": [
    "### 5.2. Во всех группах.\n",
    "\n",
    "Определите, есть ли пациенты, ноходящиеся одновременно во всех группах риска. Если есть, выведите этих пациентов."
   ]
  },
  {
   "cell_type": "code",
   "execution_count": 120,
   "id": "8e47fa27",
   "metadata": {},
   "outputs": [],
   "source": [
    "# YOUR CODE HERE"
   ]
  },
  {
   "attachments": {},
   "cell_type": "markdown",
   "id": "fbdd41f4",
   "metadata": {},
   "source": [
    "## 6. Влияние аппарата."
   ]
  },
  {
   "attachments": {},
   "cell_type": "markdown",
   "id": "a35444e0",
   "metadata": {},
   "source": [
    "### 6.1. Распределния по митральной недостаточности.\n",
    "\n",
    "Постройте столбчатые диаграммы, с распределением пациентов по классам митральной недостаточности до и после установки имплантов. Обе даиграммы должны быть выведены на одном графике. Класс 0 на диаграммах не учитывать."
   ]
  },
  {
   "cell_type": "code",
   "execution_count": 121,
   "id": "6b6902d9",
   "metadata": {},
   "outputs": [],
   "source": [
    "# YOUR CODE HERE"
   ]
  },
  {
   "attachments": {},
   "cell_type": "markdown",
   "id": "b1f006fa",
   "metadata": {},
   "source": [
    "Какой вывод можно сделать, глядя на полученную диаграмму?\n",
    "\n",
    "**Ваш ответ**: *не отвечать нельзя*."
   ]
  },
  {
   "attachments": {},
   "cell_type": "markdown",
   "id": "0241c030",
   "metadata": {},
   "source": [
    "### 6.2. Влияние аппарата на митральную недостаточность.\n",
    "\n",
    "Определите количество пациентов, чье состояние в рамках митральной недостаточности улучшилось после имплантации. Под улучшением понимается уменьшение степени. \n",
    "\n",
    "Для каждого аппарата посчитайте количество пациентов, чье состояние улучшилось.\n",
    "\n",
    "Определите какой аппарат эффективнее. Подумайте, как сделать это правильно."
   ]
  },
  {
   "cell_type": "code",
   "execution_count": 122,
   "id": "7fbc994a",
   "metadata": {},
   "outputs": [],
   "source": [
    "# YOUR CODE HERE"
   ]
  },
  {
   "attachments": {},
   "cell_type": "markdown",
   "id": "ae54d805",
   "metadata": {},
   "source": [
    "### 6.3. Распределния по функциональному классу.\n",
    "\n",
    "Постройте столбчатые диаграммы, с распределением пациентов по функциональному классу до и после установки имплантов. Обе даиграммы должны быть выведены на одном графике."
   ]
  },
  {
   "cell_type": "code",
   "execution_count": 123,
   "id": "7f8511d6",
   "metadata": {},
   "outputs": [],
   "source": [
    "# YOUR CODE HERE"
   ]
  },
  {
   "attachments": {},
   "cell_type": "markdown",
   "id": "8534e3a4",
   "metadata": {},
   "source": [
    "### 6.4. Влияние аппарата на функциональный класс.\n",
    "\n",
    "Определите количество пациентов, чье состояние в рамках оценки функционального класса улучшилось после имплантации. Под улучшением понимается уменьшение степени. \n",
    "\n",
    "Для каждого аппарата посчитайте количество пациентов, чье состояние улучшилось.\n",
    "\n",
    "Определите какой аппарат эффективнее. Подумайте, как сделать это правильно."
   ]
  },
  {
   "cell_type": "code",
   "execution_count": 124,
   "id": "61dfef9d",
   "metadata": {},
   "outputs": [],
   "source": [
    "# YOUR CODE HERE"
   ]
  },
  {
   "attachments": {},
   "cell_type": "markdown",
   "id": "c4d0ee63",
   "metadata": {},
   "source": [
    "### 6.5. Эффективный имплант.\n",
    "\n",
    "Определите количество пациентов, чье состояние в рамках оценки митральной недостаточности и функционального класса улучшилось после имплантации. Под улучшением понимается уменьшение степени. \n",
    "\n",
    "Для каждого аппарата посчитайте количество пациентов, чье состояние улучшилось.\n",
    "\n",
    "Определите какой аппарат эффективнее. Подумайте, как сделать это правильно."
   ]
  },
  {
   "cell_type": "code",
   "execution_count": 125,
   "id": "6c58e0ff",
   "metadata": {},
   "outputs": [],
   "source": [
    "# YOUR CODE HERE"
   ]
  }
 ],
 "metadata": {
  "kernelspec": {
   "display_name": "Python 3 (ipykernel)",
   "language": "python",
   "name": "python3"
  },
  "language_info": {
   "codemirror_mode": {
    "name": "ipython",
    "version": 3
   },
   "file_extension": ".py",
   "mimetype": "text/x-python",
   "name": "python",
   "nbconvert_exporter": "python",
   "pygments_lexer": "ipython3",
   "version": "3.11.1"
  }
 },
 "nbformat": 4,
 "nbformat_minor": 5
}
