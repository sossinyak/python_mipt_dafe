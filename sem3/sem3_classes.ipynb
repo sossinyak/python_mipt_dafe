{
 "cells": [
  {
   "cell_type": "markdown",
   "id": "fdcd77d0",
   "metadata": {},
   "source": [
    "# Работа с классами."
   ]
  },
  {
   "cell_type": "markdown",
   "id": "b1a3f073",
   "metadata": {},
   "source": [
    "**Библиотеки для тестирования:**"
   ]
  },
  {
   "cell_type": "code",
   "execution_count": 1,
   "id": "ef06312c",
   "metadata": {},
   "outputs": [],
   "source": [
    "from random import randint\n",
    "import numpy.linalg as la\n",
    "import numpy as np"
   ]
  },
  {
   "cell_type": "markdown",
   "id": "d5c1c7cc",
   "metadata": {},
   "source": [
    "**Константы для тестирования:**"
   ]
  },
  {
   "cell_type": "code",
   "execution_count": 2,
   "id": "48bc8cbd",
   "metadata": {},
   "outputs": [],
   "source": [
    "assertion_string = 'test was failed;'\n",
    "epsilon = 1e-4"
   ]
  },
  {
   "cell_type": "code",
   "execution_count": 3,
   "id": "ca963398",
   "metadata": {},
   "outputs": [],
   "source": [
    "from vector3d import Vector3D"
   ]
  },
  {
   "cell_type": "markdown",
   "id": "aa18c7d7",
   "metadata": {},
   "source": [
    "___"
   ]
  },
  {
   "cell_type": "markdown",
   "id": "821da26f",
   "metadata": {},
   "source": [
    "## Тестирование."
   ]
  },
  {
   "cell_type": "markdown",
   "id": "9221a62d",
   "metadata": {},
   "source": [
    "### 2.1. Тестируем init().\n",
    "\n",
    "Создадим несколько экземпляров класса `Vector3D`, используя все возможности написанной нами функции $__init__()$:"
   ]
  },
  {
   "cell_type": "code",
   "execution_count": 4,
   "id": "008258fe",
   "metadata": {},
   "outputs": [
    {
     "name": "stdout",
     "output_type": "stream",
     "text": [
      "could not convert string to float: 'a'\n"
     ]
    }
   ],
   "source": [
    "vectors = []\n",
    "\n",
    "vectors.append(Vector3D())\n",
    "vectors.append(Vector3D(1, 2, 3))\n",
    "vectors.append(Vector3D(4., 5., 6.))\n",
    "vectors.append(Vector3D(-7, -8, -9))\n",
    "vectors.append(Vector3D(-10., -11., -12.))\n",
    "vectors.append(Vector3D(-1, 2, -3))\n",
    "vectors.append(Vector3D(5, 6))\n",
    "vectors.append(Vector3D(x=1, z=3))\n",
    "\n",
    "try:\n",
    "    vector = Vector3D('a')\n",
    "    \n",
    "except Exception as e:\n",
    "    print(e)"
   ]
  },
  {
   "cell_type": "markdown",
   "id": "8091b733",
   "metadata": {},
   "source": [
    "Отдельное внимание обратим на следующие детали:\n",
    "\n",
    "- За счет значений по умолчанию, нам необязательно что-то передавать в наш класс для создания нулевого вектора;  \n",
    "- За счет использования именованных аргументов, необязятельно передавать в наш класс все три числа, достаточно указать значения необходимых нам компонент;  \n",
    "- Проверка типов аргументов не позволяет инициализировать наш вектор, например, строками;  "
   ]
  },
  {
   "cell_type": "markdown",
   "id": "4c9b163f",
   "metadata": {},
   "source": [
    "Теперь проверим правильность инициализации с помощью уже написанной функции $__iter()__$:"
   ]
  },
  {
   "cell_type": "code",
   "execution_count": 5,
   "id": "9987486c",
   "metadata": {},
   "outputs": [
    {
     "name": "stdout",
     "output_type": "stream",
     "text": [
      "v1: x = 0.0; y = 0.0; z = 0.0;\n",
      "v2: x = 1.0; y = 2.0; z = 3.0;\n",
      "v3: x = 4.0; y = 5.0; z = 6.0;\n",
      "v4: x = -7.0; y = -8.0; z = -9.0;\n",
      "v5: x = -10.0; y = -11.0; z = -12.0;\n",
      "v6: x = -1.0; y = 2.0; z = -3.0;\n",
      "v7: x = 5.0; y = 6.0; z = 0.0;\n",
      "v8: x = 1.0; y = 0.0; z = 3.0;\n"
     ]
    }
   ],
   "source": [
    "for i, vector in enumerate(vectors, start=1):\n",
    "    \n",
    "    x, y, z = vector\n",
    "    print(f'v{i}: {x = }; {y = }; {z = };')"
   ]
  },
  {
   "cell_type": "markdown",
   "id": "c3fa2572",
   "metadata": {},
   "source": [
    "Как мы видим нужные поля класса Vector3D были заполнены указанными значениями. Инициализация происходит корректно."
   ]
  },
  {
   "cell_type": "markdown",
   "id": "12a20967",
   "metadata": {},
   "source": [
    "### 2.2. Тестируем repr()."
   ]
  },
  {
   "cell_type": "code",
   "execution_count": 6,
   "id": "137b7e47",
   "metadata": {},
   "outputs": [
    {
     "name": "stdout",
     "output_type": "stream",
     "text": [
      "v1: Vector3D(0.0, 0.0, 0.0);\n",
      "v2: Vector3D(1.0, 2.0, 3.0);\n",
      "v3: Vector3D(4.0, 5.0, 6.0);\n",
      "v4: Vector3D(-7.0, -8.0, -9.0);\n",
      "v5: Vector3D(-10.0, -11.0, -12.0);\n",
      "v6: Vector3D(-1.0, 2.0, -3.0);\n",
      "v7: Vector3D(5.0, 6.0, 0.0);\n",
      "v8: Vector3D(1.0, 0.0, 3.0);\n"
     ]
    }
   ],
   "source": [
    "for i, vector in enumerate(vectors, start=1):\n",
    "    \n",
    "    print(f'v{i}: {vector};')"
   ]
  },
  {
   "cell_type": "markdown",
   "id": "70d0e832",
   "metadata": {},
   "source": [
    "Мы получили вывод, похожий на инициализацию объекта. Именно этого мы и добивались. Подобное поведение может быть полезно при отладки."
   ]
  },
  {
   "cell_type": "code",
   "execution_count": 7,
   "id": "a567111c",
   "metadata": {},
   "outputs": [
    {
     "name": "stdout",
     "output_type": "stream",
     "text": [
      "Vector3D(0.0, 0.0, 0.0)\n",
      "Vector3D(1.0, 2.0, 3.0)\n",
      "Vector3D(4.0, 5.0, 6.0)\n",
      "Vector3D(-7.0, -8.0, -9.0)\n",
      "Vector3D(-10.0, -11.0, -12.0)\n",
      "Vector3D(-1.0, 2.0, -3.0)\n",
      "Vector3D(5.0, 6.0, 0.0)\n",
      "Vector3D(1.0, 0.0, 3.0)\n"
     ]
    }
   ],
   "source": [
    "for vector in vectors:\n",
    "    \n",
    "    print(str(vector))"
   ]
  },
  {
   "cell_type": "markdown",
   "id": "20f14e36",
   "metadata": {},
   "source": [
    "Как мы видим, аналогичный вывод получается и при применении функции `str()`. Это происходит потому что функции repr() и str() взаимозаменяемы. Если вы реализовали только repr(), то она будет вызвана при вызове str(). Аналогичное поведение мы будем наблюдать в том случае, если была реализована только str(). Однако repr() используется в основном для вывода некоторой отладочной информации и полезна скорее разработчику, а функция str() - для пользовательских нужд. Если ваша программа подразумевает различное поведение этих функций, просто переопределите $__str()__$ в теле класса."
   ]
  },
  {
   "cell_type": "markdown",
   "id": "a8297123",
   "metadata": {},
   "source": [
    "### 2.3. Тестируем abs().\n",
    "\n",
    "Для тестирования работы нашей реализации abs() будем сравнивать результат её вычисления с результатом вычисления функции numpy.linalg.norm(), которая вычисляет L2 норму вектора. \n",
    "\n",
    "Из-за ошибок округления имеет смысл сравнивать полученные длины с определённой точностью. Будем сравнивать длины с точностью до четвёртого порядка. Для этого достаточно просто вычислить модуль их разности и сравнить с 10e-4. "
   ]
  },
  {
   "cell_type": "code",
   "execution_count": 8,
   "id": "f6a58f99",
   "metadata": {},
   "outputs": [
    {
     "name": "stdout",
     "output_type": "stream",
     "text": [
      "abs(vector) = 0.0\n",
      "abs(vector) = 3.7416573867739413\n",
      "abs(vector) = 8.774964387392123\n",
      "abs(vector) = 13.92838827718412\n",
      "abs(vector) = 19.1049731745428\n",
      "abs(vector) = 3.7416573867739413\n",
      "abs(vector) = 7.810249675906654\n",
      "abs(vector) = 3.1622776601683795\n"
     ]
    }
   ],
   "source": [
    "for i, vector in enumerate(vectors, start=1):\n",
    "    \n",
    "    v_i = np.array(list(vector))\n",
    "    \n",
    "    assert np.abs(abs(vector) - la.norm(v_i)) < epsilon\n",
    "    \n",
    "    print(f'{abs(vector) = }')"
   ]
  },
  {
   "cell_type": "markdown",
   "id": "4a0174b3",
   "metadata": {},
   "source": [
    "### 2.4. Тестируем bool()."
   ]
  },
  {
   "cell_type": "code",
   "execution_count": 9,
   "id": "6cc1a426",
   "metadata": {},
   "outputs": [
    {
     "name": "stdout",
     "output_type": "stream",
     "text": [
      "Nothing went wrong;\n"
     ]
    }
   ],
   "source": [
    "for i, vector in enumerate(vectors, start=1):\n",
    "    \n",
    "    v_i = np.array(list(vector))\n",
    "    \n",
    "    assert bool(abs(vector)) == bool(la.norm(v_i)), assertion_string\n",
    "    \n",
    "print('Nothing went wrong;')"
   ]
  },
  {
   "cell_type": "markdown",
   "id": "bc802b83",
   "metadata": {},
   "source": [
    "### 2.5. Тестируем eq()."
   ]
  },
  {
   "cell_type": "code",
   "execution_count": 10,
   "id": "cbfa57d8",
   "metadata": {},
   "outputs": [
    {
     "name": "stdout",
     "output_type": "stream",
     "text": [
      "Nothing went wrong;\n"
     ]
    }
   ],
   "source": [
    "vectors_np = np.array(vectors, dtype=object)\n",
    "\n",
    "eqs = vectors_np[:, np.newaxis] == vectors_np\n",
    "eqs_true = np.eye(vectors_np.shape[0], dtype=np.uint8)\n",
    "\n",
    "assert np.all(np.uint8(eqs) == eqs_true)\n",
    "\n",
    "print('Nothing went wrong;')"
   ]
  },
  {
   "cell_type": "code",
   "execution_count": 11,
   "id": "ddba87d3",
   "metadata": {},
   "outputs": [
    {
     "name": "stdout",
     "output_type": "stream",
     "text": [
      "[[ True False False False False False False False]\n",
      " [False  True False False False False False False]\n",
      " [False False  True False False False False False]\n",
      " [False False False  True False False False False]\n",
      " [False False False False  True False False False]\n",
      " [False False False False False  True False False]\n",
      " [False False False False False False  True False]\n",
      " [False False False False False False False  True]]\n"
     ]
    }
   ],
   "source": [
    "print(eqs)"
   ]
  },
  {
   "cell_type": "markdown",
   "id": "6c42b9c8",
   "metadata": {},
   "source": [
    "### Пояснение к последующим пунктам.\n",
    "\n",
    "Чтобы протестировать наши реализации арифметических операций над векторами трехмерного пространства, мы будем сравнивать результаты их выполнения с результатами выполнения аналогичных операций из numpy. "
   ]
  },
  {
   "cell_type": "markdown",
   "id": "58fd5a09",
   "metadata": {},
   "source": [
    "### 2.6. Тестируем neg()."
   ]
  },
  {
   "cell_type": "code",
   "execution_count": 12,
   "id": "5d00787d",
   "metadata": {},
   "outputs": [
    {
     "name": "stdout",
     "output_type": "stream",
     "text": [
      "Nothing went wrong;\n"
     ]
    }
   ],
   "source": [
    "for i, vector in enumerate(vectors, start=1):\n",
    "    \n",
    "    v_i = np.array(list(vector))\n",
    "    v_i_neg = np.array(list(-vector))\n",
    "    \n",
    "    assert np.all(-v_i == v_i_neg), assertion_string\n",
    "    \n",
    "print('Nothing went wrong;')"
   ]
  },
  {
   "cell_type": "markdown",
   "id": "867d8f5d",
   "metadata": {},
   "source": [
    "### 2.7. Тестируем add()."
   ]
  },
  {
   "cell_type": "code",
   "execution_count": 13,
   "id": "9bbbf5f0",
   "metadata": {},
   "outputs": [
    {
     "name": "stdout",
     "output_type": "stream",
     "text": [
      "Nothing went wrong;\n"
     ]
    }
   ],
   "source": [
    "vectors_array = np.array(vectors, dtype=object)\n",
    "vectors_array_fliped = np.flip(vectors)\n",
    "\n",
    "vectors_np = list(map(lambda x: np.array(list(x)), vectors))\n",
    "vectors_np = np.array(vectors_np)\n",
    "vectors_np_fliped = np.flip(vectors_np, axis=0)\n",
    "\n",
    "sums_vector = vectors_array + vectors_array_fliped\n",
    "sums_numpy = vectors_np + vectors_np_fliped\n",
    "\n",
    "sums_vector_np = list(map(lambda x: np.array(list(x)), sums_vector))\n",
    "sums_vector_np = np.array(sums_vector_np)\n",
    "\n",
    "assert np.all(np.abs(sums_vector_np - sums_numpy) < epsilon), assertion_string\n",
    "\n",
    "print('Nothing went wrong;')"
   ]
  },
  {
   "cell_type": "markdown",
   "id": "2e50d42c",
   "metadata": {},
   "source": [
    "### 2.8. Тестируем sub()."
   ]
  },
  {
   "cell_type": "code",
   "execution_count": 14,
   "id": "6bf1692c",
   "metadata": {},
   "outputs": [
    {
     "name": "stdout",
     "output_type": "stream",
     "text": [
      "Nothing went wrong;\n"
     ]
    }
   ],
   "source": [
    "vectors_array = np.array(vectors, dtype=object)\n",
    "vectors_array_fliped = np.flip(vectors)\n",
    "\n",
    "vectors_np = list(map(lambda x: np.array(list(x)), vectors))\n",
    "vectors_np = np.array(vectors_np)\n",
    "vectors_np_fliped = np.flip(vectors_np, axis=0)\n",
    "\n",
    "subs_vector = vectors_array - vectors_array_fliped\n",
    "subs_numpy = vectors_np - vectors_np_fliped\n",
    "\n",
    "subs_vector_np = list(map(lambda x: np.array(list(x)), subs_vector))\n",
    "subs_vector_np = np.array(subs_vector_np)\n",
    "\n",
    "assert np.all(np.abs(subs_vector_np - subs_numpy) < epsilon), assertion_string\n",
    "\n",
    "print('Nothing went wrong;')"
   ]
  },
  {
   "cell_type": "markdown",
   "id": "4566047d",
   "metadata": {},
   "source": [
    "### 2.9. Тестируем mul()."
   ]
  },
  {
   "cell_type": "code",
   "execution_count": 15,
   "id": "a4ae4650",
   "metadata": {},
   "outputs": [
    {
     "name": "stdout",
     "output_type": "stream",
     "text": [
      "Nothing went wrong;\n"
     ]
    }
   ],
   "source": [
    "vectors_array = np.array(vectors, dtype=object)\n",
    "\n",
    "vectors_np = list(map(lambda x: np.array(list(x)), vectors))\n",
    "vectors_np = np.array(vectors_np)\n",
    "\n",
    "scalar = randint(-100, 100)\n",
    "\n",
    "muls_vector = vectors_array * scalar\n",
    "muls_numpy = vectors_np * scalar\n",
    "\n",
    "muls_vector_np = list(map(lambda x: np.array(list(x)), muls_vector))\n",
    "muls_vector_np = np.array(muls_vector_np)\n",
    "\n",
    "assert np.all(np.abs(muls_vector_np - muls_numpy) < epsilon), assertion_string\n",
    "\n",
    "print('Nothing went wrong;')"
   ]
  },
  {
   "cell_type": "markdown",
   "id": "e3f5c5d3",
   "metadata": {},
   "source": [
    "### 2.10. Тестируем rmul()."
   ]
  },
  {
   "cell_type": "code",
   "execution_count": 16,
   "id": "da380a8a",
   "metadata": {},
   "outputs": [
    {
     "name": "stdout",
     "output_type": "stream",
     "text": [
      "Nothing went wrong;\n"
     ]
    }
   ],
   "source": [
    "vectors_array = np.array(vectors, dtype=object)\n",
    "\n",
    "vectors_np = list(map(lambda x: np.array(list(x)), vectors))\n",
    "vectors_np = np.array(vectors_np)\n",
    "\n",
    "scalar = randint(-100, 100)\n",
    "\n",
    "muls_vector = scalar * vectors_array\n",
    "muls_numpy = scalar * vectors_np\n",
    "\n",
    "muls_vector_np = list(map(lambda x: np.array(list(x)), muls_vector))\n",
    "muls_vector_np = np.array(muls_vector_np)\n",
    "\n",
    "assert np.all(np.abs(muls_vector_np - muls_numpy) < epsilon), assertion_string\n",
    "\n",
    "print('Nothing went wrong;')"
   ]
  },
  {
   "cell_type": "markdown",
   "id": "fd14cf54",
   "metadata": {},
   "source": [
    "### 2.11. Тестируем truediv()."
   ]
  },
  {
   "cell_type": "code",
   "execution_count": 17,
   "id": "a6b690d6",
   "metadata": {},
   "outputs": [
    {
     "name": "stdout",
     "output_type": "stream",
     "text": [
      "Nothing went wrong;\n"
     ]
    }
   ],
   "source": [
    "vectors_array = np.array(vectors, dtype=object)\n",
    "\n",
    "vectors_np = list(map(lambda x: np.array(list(x)), vectors))\n",
    "vectors_np = np.array(vectors_np)\n",
    "\n",
    "scalar = randint(1, 100)\n",
    "\n",
    "divs_vector = vectors_array / scalar\n",
    "divs_numpy = vectors_np / scalar\n",
    "\n",
    "divs_vector_np = list(map(lambda x: np.array(list(x)), divs_vector))\n",
    "divs_vector_np = np.array(divs_vector_np)\n",
    "\n",
    "assert np.all(np.abs(divs_vector_np - divs_numpy) < epsilon), assertion_string\n",
    "\n",
    "print('Nothing went wrong;')"
   ]
  },
  {
   "cell_type": "markdown",
   "id": "077fc65a",
   "metadata": {},
   "source": [
    "### 2.12. Тестируем dot()."
   ]
  },
  {
   "cell_type": "code",
   "execution_count": 18,
   "id": "684d2307",
   "metadata": {},
   "outputs": [
    {
     "name": "stdout",
     "output_type": "stream",
     "text": [
      "Nothing went wrong;\n"
     ]
    }
   ],
   "source": [
    "vectors_array = np.array(vectors, dtype=object)\n",
    "vectors_array_fliped = np.flip(vectors)\n",
    "\n",
    "vectors_np = list(map(lambda x: np.array(list(x)), vectors))\n",
    "vectors_np = np.array(vectors_np)\n",
    "vectors_np_fliped = np.flip(vectors_np, axis=0)\n",
    "\n",
    "muls_vector = np.array([])\n",
    "muls_numpy = np.array([])\n",
    "\n",
    "for i in range(vectors_array.size):\n",
    "    \n",
    "    mul_numpy = vectors_np[i] @ vectors_np_fliped[i]\n",
    "    mul_vector = vectors_array[i].dot(vectors_array_fliped[i])\n",
    "    \n",
    "    muls_vector = np.append(muls_vector, mul_vector)\n",
    "    muls_numpy = np.append(muls_numpy, mul_numpy)\n",
    "\n",
    "assert np.all(np.abs(muls_vector - muls_numpy) < epsilon), assertion_string\n",
    "\n",
    "print('Nothing went wrong;')"
   ]
  },
  {
   "cell_type": "markdown",
   "id": "4b859130",
   "metadata": {},
   "source": [
    "### 2.13 Тестируем cross()."
   ]
  },
  {
   "cell_type": "code",
   "execution_count": 19,
   "id": "0c8222a5",
   "metadata": {},
   "outputs": [
    {
     "name": "stdout",
     "output_type": "stream",
     "text": [
      "Nothing went wrong;\n"
     ]
    }
   ],
   "source": [
    "vectors_array = np.array(vectors, dtype=object)\n",
    "vectors_array_fliped = np.flip(vectors)\n",
    "\n",
    "vectors_np = list(map(lambda x: np.array(list(x)), vectors))\n",
    "vectors_np = np.array(vectors_np)\n",
    "vectors_np_fliped = np.flip(vectors_np, axis=0)\n",
    "\n",
    "muls_vector = np.array([])\n",
    "muls_numpy = None\n",
    "\n",
    "for i in range(vectors_array.size):\n",
    "    \n",
    "    mul_numpy = np.cross(vectors_np[i], vectors_np_fliped[i])\n",
    "    mul_vector = vectors_array[i].cross(vectors_array_fliped[i])\n",
    "    \n",
    "    muls_vector = np.append(muls_vector, mul_vector)\n",
    "    muls_numpy = mul_numpy if muls_numpy is None else np.vstack((muls_numpy, mul_numpy))\n",
    "    \n",
    "muls_vector_np = list(map(lambda x: np.array(list(x)), muls_vector))\n",
    "muls_vector_np = np.array(muls_vector_np)\n",
    "\n",
    "assert np.all(np.abs(muls_vector_np - muls_numpy) < epsilon), assertion_string\n",
    "\n",
    "print('Nothing went wrong;')"
   ]
  },
  {
   "cell_type": "code",
   "execution_count": null,
   "id": "c6a0c2c2",
   "metadata": {},
   "outputs": [],
   "source": []
  }
 ],
 "metadata": {
  "kernelspec": {
   "display_name": "Python 3 (ipykernel)",
   "language": "python",
   "name": "python3"
  },
  "language_info": {
   "codemirror_mode": {
    "name": "ipython",
    "version": 3
   },
   "file_extension": ".py",
   "mimetype": "text/x-python",
   "name": "python",
   "nbconvert_exporter": "python",
   "pygments_lexer": "ipython3",
   "version": "3.11.1"
  },
  "vscode": {
   "interpreter": {
    "hash": "84d57b3ef870f01529d698032cb407947e3b5caeb953dd40fd1689b033f65212"
   }
  }
 },
 "nbformat": 4,
 "nbformat_minor": 5
}
