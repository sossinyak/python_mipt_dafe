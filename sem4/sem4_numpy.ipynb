{
 "cells": [
  {
   "cell_type": "markdown",
   "id": "a99bb240",
   "metadata": {},
   "source": [
    "# Введение в NumPy."
   ]
  },
  {
   "cell_type": "markdown",
   "id": "d0b9ca6b",
   "metadata": {},
   "source": [
    "## 1. Подключение модуля."
   ]
  },
  {
   "cell_type": "code",
   "execution_count": 1,
   "id": "2124af35",
   "metadata": {},
   "outputs": [],
   "source": [
    "import numpy as np\n",
    "np.random.seed(42)"
   ]
  },
  {
   "cell_type": "markdown",
   "id": "0c42cfe7",
   "metadata": {},
   "source": [
    "## 2. Создание массивов."
   ]
  },
  {
   "cell_type": "markdown",
   "id": "a69c6f77",
   "metadata": {},
   "source": [
    "### 2.1. Из списков Python:"
   ]
  },
  {
   "cell_type": "code",
   "execution_count": 2,
   "id": "13283452",
   "metadata": {},
   "outputs": [
    {
     "data": {
      "text/plain": [
       "array([1, 2, 3, 4, 5])"
      ]
     },
     "execution_count": 2,
     "metadata": {},
     "output_type": "execute_result"
    }
   ],
   "source": [
    "np.array([1, 2, 3, 4, 5])"
   ]
  },
  {
   "cell_type": "code",
   "execution_count": 3,
   "id": "e2f86f24",
   "metadata": {},
   "outputs": [
    {
     "data": {
      "text/plain": [
       "array([1.  , 2.  , 3.14, 4.  , 5.  ])"
      ]
     },
     "execution_count": 3,
     "metadata": {},
     "output_type": "execute_result"
    }
   ],
   "source": [
    "np.array([1, 2, 3.14, 4, 5])"
   ]
  },
  {
   "cell_type": "code",
   "execution_count": 4,
   "id": "9a5a3fe4",
   "metadata": {},
   "outputs": [
    {
     "data": {
      "text/plain": [
       "array([1., 2., 3., 4., 5.])"
      ]
     },
     "execution_count": 4,
     "metadata": {},
     "output_type": "execute_result"
    }
   ],
   "source": [
    "np.array([1, 2, 3, 4, 5], dtype=np.float64)"
   ]
  },
  {
   "cell_type": "code",
   "execution_count": 5,
   "id": "3fb917c1",
   "metadata": {},
   "outputs": [
    {
     "name": "stderr",
     "output_type": "stream",
     "text": [
      "C:\\Users\\Michail\\AppData\\Local\\Temp\\ipykernel_14396\\1202983094.py:1: VisibleDeprecationWarning: Creating an ndarray from ragged nested sequences (which is a list-or-tuple of lists-or-tuples-or ndarrays with different lengths or shapes) is deprecated. If you meant to do this, you must specify 'dtype=object' when creating the ndarray.\n",
      "  np.array([1, 2.72, [1, 2, 3], {'a': 1, 'b': 2}])\n"
     ]
    },
    {
     "data": {
      "text/plain": [
       "array([1, 2.72, list([1, 2, 3]), {'a': 1, 'b': 2}], dtype=object)"
      ]
     },
     "execution_count": 5,
     "metadata": {},
     "output_type": "execute_result"
    }
   ],
   "source": [
    "np.array([1, 2.72, [1, 2, 3], {'a': 1, 'b': 2}])"
   ]
  },
  {
   "cell_type": "code",
   "execution_count": 6,
   "id": "adb428f6",
   "metadata": {},
   "outputs": [
    {
     "data": {
      "text/plain": [
       "array([[0, 1, 2, 3, 4],\n",
       "       [1, 2, 3, 4, 5],\n",
       "       [2, 3, 4, 5, 6],\n",
       "       [3, 4, 5, 6, 7],\n",
       "       [4, 5, 6, 7, 8]])"
      ]
     },
     "execution_count": 6,
     "metadata": {},
     "output_type": "execute_result"
    }
   ],
   "source": [
    "np.array([[i + j for i in range(5)] for j in range(5)])"
   ]
  },
  {
   "cell_type": "markdown",
   "id": "bce99a9b",
   "metadata": {},
   "source": [
    "Обратите внимание, что массив numpy содержит данные одного типа. При попытке создания массива из разнородных данных NumPy будет производить повышающее приведение типов до тех пор, пока все данные не будут унифицированы. \n",
    "\n",
    "Так во стором примере, из-за наличия в данных числа 3.14, итоговый тип данных массива - float. В третьем примере итоговый тип - object. Тип object наиболее общий и означает, что массив состоит из объектов языка Python (в нашем примере int, float, list и dict).\n",
    "\n",
    "При необходимости можно явно указать желаемый тип данных, путем присвоение атрибуту `dtype` допустимого значения. \n",
    "\n",
    "Также обратите внимание на последний пример. В NumPy возможно создание многомерных массивов из списков со вложенными списками. Так в нашем примере вложенные списки интерпретируются, как строки двухмерной матрицы. "
   ]
  },
  {
   "cell_type": "markdown",
   "id": "1cea2df0",
   "metadata": {},
   "source": [
    "### 2.2. С нуля:"
   ]
  },
  {
   "cell_type": "markdown",
   "id": "0ba3fd70",
   "metadata": {},
   "source": [
    "**zeros:**\n",
    "\n",
    "С помощью функции zeros() можно создать массив, заполненный нулями. "
   ]
  },
  {
   "cell_type": "code",
   "execution_count": 7,
   "id": "409f2ab0",
   "metadata": {},
   "outputs": [
    {
     "data": {
      "text/plain": [
       "array([0, 0, 0, 0, 0, 0, 0, 0, 0, 0])"
      ]
     },
     "execution_count": 7,
     "metadata": {},
     "output_type": "execute_result"
    }
   ],
   "source": [
    "np.zeros(10, dtype=int)"
   ]
  },
  {
   "cell_type": "code",
   "execution_count": 8,
   "id": "a4228c0b",
   "metadata": {},
   "outputs": [
    {
     "data": {
      "text/plain": [
       "array([[[0., 0., 0.],\n",
       "        [0., 0., 0.],\n",
       "        [0., 0., 0.]],\n",
       "\n",
       "       [[0., 0., 0.],\n",
       "        [0., 0., 0.],\n",
       "        [0., 0., 0.]],\n",
       "\n",
       "       [[0., 0., 0.],\n",
       "        [0., 0., 0.],\n",
       "        [0., 0., 0.]]], dtype=float32)"
      ]
     },
     "execution_count": 8,
     "metadata": {},
     "output_type": "execute_result"
    }
   ],
   "source": [
    "np.zeros((3, 3, 3), dtype=np.float32)"
   ]
  },
  {
   "cell_type": "markdown",
   "id": "0e53ea2e",
   "metadata": {},
   "source": [
    "**ones:**\n",
    "\n",
    "Угадайте, что можно сделать с помощтю функции ones?"
   ]
  },
  {
   "cell_type": "code",
   "execution_count": 9,
   "id": "34c58ff5",
   "metadata": {},
   "outputs": [
    {
     "data": {
      "text/plain": [
       "array([1, 1, 1, 1, 1, 1, 1, 1, 1, 1], dtype=uint8)"
      ]
     },
     "execution_count": 9,
     "metadata": {},
     "output_type": "execute_result"
    }
   ],
   "source": [
    "np.ones(10, dtype=np.uint8)"
   ]
  },
  {
   "cell_type": "markdown",
   "id": "a80b18ca",
   "metadata": {},
   "source": [
    "**full:**\n",
    "\n",
    "Иногда необходимо создать новый массив, проинициализированный определёнными значениями отличными от нуля и единицы. Например, при работе с изображениями, может потребоваться необходимости создать пустое белое изображение, где значение белого задается числом 255. Специально для таких целей существует функция full():"
   ]
  },
  {
   "cell_type": "code",
   "execution_count": 10,
   "id": "f43affe6",
   "metadata": {},
   "outputs": [
    {
     "data": {
      "text/plain": [
       "array([[255, 255, 255, 255, 255],\n",
       "       [255, 255, 255, 255, 255],\n",
       "       [255, 255, 255, 255, 255],\n",
       "       [255, 255, 255, 255, 255],\n",
       "       [255, 255, 255, 255, 255]], dtype=uint8)"
      ]
     },
     "execution_count": 10,
     "metadata": {},
     "output_type": "execute_result"
    }
   ],
   "source": [
    "np.full(shape=(5, 5), fill_value=255, dtype=np.uint8)"
   ]
  },
  {
   "cell_type": "markdown",
   "id": "d38cab79",
   "metadata": {},
   "source": [
    "**arange:**\n",
    "\n",
    "Часто необходимо заполнить новый массив арифметической прогрессией. Для этой цели существует функция arange:"
   ]
  },
  {
   "cell_type": "code",
   "execution_count": 11,
   "id": "00e5d69e",
   "metadata": {},
   "outputs": [
    {
     "data": {
      "text/plain": [
       "array([0, 1, 2, 3, 4, 5, 6, 7, 8, 9])"
      ]
     },
     "execution_count": 11,
     "metadata": {},
     "output_type": "execute_result"
    }
   ],
   "source": [
    "np.arange(10)"
   ]
  },
  {
   "cell_type": "code",
   "execution_count": 12,
   "id": "fda29e6a",
   "metadata": {},
   "outputs": [
    {
     "data": {
      "text/plain": [
       "array([ 5,  6,  7,  8,  9, 10])"
      ]
     },
     "execution_count": 12,
     "metadata": {},
     "output_type": "execute_result"
    }
   ],
   "source": [
    "np.arange(start=5, stop=11)"
   ]
  },
  {
   "cell_type": "code",
   "execution_count": 13,
   "id": "023acd47",
   "metadata": {},
   "outputs": [
    {
     "data": {
      "text/plain": [
       "array([-10,  -8,  -6,  -4,  -2,   0,   2,   4,   6,   8,  10])"
      ]
     },
     "execution_count": 13,
     "metadata": {},
     "output_type": "execute_result"
    }
   ],
   "source": [
    "np.arange(start=-10, stop=11, step=2)"
   ]
  },
  {
   "cell_type": "markdown",
   "id": "fedba347",
   "metadata": {},
   "source": [
    "**linspace:**\n",
    "\n",
    "Не всегда удобно вычислять шаг между соседними точками. Например, мы хотим взять 378 точек из отрезка $[0, 2\\pi]$. Чтобы не тратить время на вычисления шага в NumPy есть функция linspace, котороя берет заданное число точек из заданного диапазона, включая границы."
   ]
  },
  {
   "cell_type": "code",
   "execution_count": 14,
   "id": "94c79fc7",
   "metadata": {},
   "outputs": [
    {
     "data": {
      "text/plain": [
       "array([0.        , 0.1013417 , 0.2026834 , 0.3040251 , 0.40536679,\n",
       "       0.50670849, 0.60805019, 0.70939189, 0.81073359, 0.91207529,\n",
       "       1.01341699, 1.11475868, 1.21610038, 1.31744208, 1.41878378,\n",
       "       1.52012548, 1.62146718, 1.72280887, 1.82415057, 1.92549227,\n",
       "       2.02683397, 2.12817567, 2.22951737, 2.33085907, 2.43220076,\n",
       "       2.53354246, 2.63488416, 2.73622586, 2.83756756, 2.93890926,\n",
       "       3.04025096, 3.14159265])"
      ]
     },
     "execution_count": 14,
     "metadata": {},
     "output_type": "execute_result"
    }
   ],
   "source": [
    "np.linspace(0, np.pi, 32)"
   ]
  },
  {
   "cell_type": "markdown",
   "id": "60a0dd42",
   "metadata": {},
   "source": [
    "**random:**\n",
    "\n",
    "Часто полезно заполнить только что созданную матрицу случайными числами из заданного закона распределения. Например, в Глубоком обучение существует ряд статей, доказывающих, что при определенных условиях, эффективно инициализировать веса модели случайными значениями из нормального закона распределения. Для подобных целей в NumPy есть модуль random."
   ]
  },
  {
   "cell_type": "code",
   "execution_count": 15,
   "id": "2fe6a971",
   "metadata": {},
   "outputs": [
    {
     "data": {
      "text/plain": [
       "array([[ 0.49671415, -0.1382643 ,  0.64768854],\n",
       "       [ 1.52302986, -0.23415337, -0.23413696],\n",
       "       [ 1.57921282,  0.76743473, -0.46947439]])"
      ]
     },
     "execution_count": 15,
     "metadata": {},
     "output_type": "execute_result"
    }
   ],
   "source": [
    "np.random.normal(loc=0, scale=1, size=(3, 3))"
   ]
  },
  {
   "cell_type": "code",
   "execution_count": 16,
   "id": "11eea540",
   "metadata": {},
   "outputs": [
    {
     "data": {
      "text/plain": [
       "array([[-6.36350066, -6.3319098 , -3.91515514],\n",
       "       [ 0.49512863, -1.36109963, -4.1754172 ],\n",
       "       [ 2.23705789, -7.21012279, -4.15710703]])"
      ]
     },
     "execution_count": 16,
     "metadata": {},
     "output_type": "execute_result"
    }
   ],
   "source": [
    "np.random.uniform(low=-10, high=10, size=(3, 3))"
   ]
  },
  {
   "cell_type": "code",
   "execution_count": 17,
   "id": "14405155",
   "metadata": {},
   "outputs": [
    {
     "data": {
      "text/plain": [
       "array([[2, 6, 3],\n",
       "       [8, 2, 4],\n",
       "       [2, 6, 4]])"
      ]
     },
     "execution_count": 17,
     "metadata": {},
     "output_type": "execute_result"
    }
   ],
   "source": [
    "np.random.randint(0, 10, size=(3, 3))"
   ]
  },
  {
   "cell_type": "markdown",
   "id": "aa7ec65c",
   "metadata": {},
   "source": [
    "**eye:**\n",
    "\n",
    "Создание единичной матрицы:**"
   ]
  },
  {
   "cell_type": "code",
   "execution_count": 18,
   "id": "19259dcc",
   "metadata": {},
   "outputs": [
    {
     "data": {
      "text/plain": [
       "array([[1., 0., 0., 0., 0.],\n",
       "       [0., 1., 0., 0., 0.],\n",
       "       [0., 0., 1., 0., 0.],\n",
       "       [0., 0., 0., 1., 0.],\n",
       "       [0., 0., 0., 0., 1.]])"
      ]
     },
     "execution_count": 18,
     "metadata": {},
     "output_type": "execute_result"
    }
   ],
   "source": [
    "np.eye(5)"
   ]
  },
  {
   "cell_type": "code",
   "execution_count": 19,
   "id": "d88142a2",
   "metadata": {},
   "outputs": [
    {
     "data": {
      "text/plain": [
       "array([[1., 0., 0.],\n",
       "       [0., 1., 0.],\n",
       "       [0., 0., 1.],\n",
       "       [0., 0., 0.],\n",
       "       [0., 0., 0.]])"
      ]
     },
     "execution_count": 19,
     "metadata": {},
     "output_type": "execute_result"
    }
   ],
   "source": [
    "np.eye(5, 3)"
   ]
  },
  {
   "cell_type": "markdown",
   "id": "bb21e3d1",
   "metadata": {},
   "source": [
    "**empty:**\n",
    "\n",
    "Вы также можете создать \"пустой\" массив. Значения в его ячейках - мусор, оставшийся в этих ячейках от предыдущих вычислений. В ходе выполнения программы эти ячейки могут быть перезаписаны по вашему усмотрению."
   ]
  },
  {
   "cell_type": "code",
   "execution_count": 20,
   "id": "7b2a1c13",
   "metadata": {},
   "outputs": [
    {
     "data": {
      "text/plain": [
       "array([1., 1., 1., 1., 1.])"
      ]
     },
     "execution_count": 20,
     "metadata": {},
     "output_type": "execute_result"
    }
   ],
   "source": [
    "np.empty(5)"
   ]
  },
  {
   "cell_type": "markdown",
   "id": "accf5740",
   "metadata": {},
   "source": [
    "## 3. Атрибуты массивов."
   ]
  },
  {
   "cell_type": "code",
   "execution_count": 21,
   "id": "b57401db",
   "metadata": {},
   "outputs": [],
   "source": [
    "def print_attributes(arr: np.ndarray) -> None:\n",
    "    \n",
    "    print('\\n--------------------------------------------------')\n",
    "    print(f'\\n{array}\\n')\n",
    "    print(f'Array shape: {arr.shape};')\n",
    "    print(f'Array dimension: {arr.ndim};')\n",
    "    print(f\"Array element's amount: {arr.size};\")\n",
    "    print(f\"Array element's size: {arr.itemsize}\")\n",
    "    print(f'Array memory space: {arr.nbytes};')\n",
    "    print('--------------------------------------------------')"
   ]
  },
  {
   "cell_type": "code",
   "execution_count": 22,
   "id": "800b0fc4",
   "metadata": {},
   "outputs": [
    {
     "name": "stdout",
     "output_type": "stream",
     "text": [
      "\n",
      "--------------------------------------------------\n",
      "\n",
      "[4.50499252 0.13264961 9.42201756]\n",
      "\n",
      "Array shape: (3,);\n",
      "Array dimension: 1;\n",
      "Array element's amount: 3;\n",
      "Array element's size: 8\n",
      "Array memory space: 24;\n",
      "--------------------------------------------------\n",
      "\n",
      "--------------------------------------------------\n",
      "\n",
      "[[5.63288218 3.85416503 0.15966252]\n",
      " [2.30893826 2.41025466 6.83263519]\n",
      " [6.09996658 8.33194912 1.73364654]]\n",
      "\n",
      "Array shape: (3, 3);\n",
      "Array dimension: 2;\n",
      "Array element's amount: 9;\n",
      "Array element's size: 8\n",
      "Array memory space: 72;\n",
      "--------------------------------------------------\n",
      "\n",
      "--------------------------------------------------\n",
      "\n",
      "[[[3.91060608 1.82236088 7.5536141 ]\n",
      "  [4.25155874 2.07941663 5.67700328]\n",
      "  [0.31313292 8.42284775 4.49754133]]\n",
      "\n",
      " [[3.95150236 9.26658866 7.27271996]\n",
      "  [3.26540769 5.70443974 5.2083426 ]\n",
      "  [9.61172024 8.44533849 7.4732011 ]]\n",
      "\n",
      " [[5.39692132 5.86751166 9.65255307]\n",
      "  [6.07034248 2.75999182 2.96273506]\n",
      "  [1.65266939 0.15636407 4.23401481]]]\n",
      "\n",
      "Array shape: (3, 3, 3);\n",
      "Array dimension: 3;\n",
      "Array element's amount: 27;\n",
      "Array element's size: 8\n",
      "Array memory space: 216;\n",
      "--------------------------------------------------\n"
     ]
    }
   ],
   "source": [
    "arrays = [np.random.uniform(0, 10, size=3),\n",
    "          np.random.uniform(0, 10, size=(3, 3)),\n",
    "          np.random.uniform(0, 10, size=(3, 3, 3))]\n",
    "\n",
    "for array in arrays:\n",
    "    print_attributes(array)"
   ]
  },
  {
   "cell_type": "markdown",
   "id": "66e65ae7",
   "metadata": {},
   "source": [
    "## 4. Доступ к элементам массива."
   ]
  },
  {
   "cell_type": "code",
   "execution_count": 23,
   "id": "f65e0d1e",
   "metadata": {},
   "outputs": [],
   "source": [
    "arr_1d, arr_2d, arr_3d = arrays"
   ]
  },
  {
   "cell_type": "markdown",
   "id": "aa77c7a7",
   "metadata": {},
   "source": [
    "Массивы NumPy индексируются аналогично списком языка Python:"
   ]
  },
  {
   "cell_type": "code",
   "execution_count": 24,
   "id": "0a0a27d4",
   "metadata": {
    "scrolled": false
   },
   "outputs": [
    {
     "data": {
      "text/plain": [
       "4.5049925196954295"
      ]
     },
     "execution_count": 24,
     "metadata": {},
     "output_type": "execute_result"
    }
   ],
   "source": [
    "arr_1d[0]"
   ]
  },
  {
   "cell_type": "code",
   "execution_count": 25,
   "id": "62f2dc72",
   "metadata": {},
   "outputs": [
    {
     "data": {
      "text/plain": [
       "array([6.09996658, 8.33194912, 1.73364654])"
      ]
     },
     "execution_count": 25,
     "metadata": {},
     "output_type": "execute_result"
    }
   ],
   "source": [
    "arr_2d[-1]"
   ]
  },
  {
   "cell_type": "markdown",
   "id": "32ce251e",
   "metadata": {},
   "source": [
    "### 4.1. Индексация многомерных массивов.\n",
    "\n",
    "Многомерные массивы поддерживают следующий вид индексации:"
   ]
  },
  {
   "cell_type": "code",
   "execution_count": 26,
   "id": "3221aed8",
   "metadata": {},
   "outputs": [
    {
     "data": {
      "text/plain": [
       "0.15966252220214194"
      ]
     },
     "execution_count": 26,
     "metadata": {},
     "output_type": "execute_result"
    }
   ],
   "source": [
    "arr_2d[0, 2]"
   ]
  },
  {
   "cell_type": "code",
   "execution_count": 27,
   "id": "7abdc9cd",
   "metadata": {
    "scrolled": true
   },
   "outputs": [
    {
     "data": {
      "text/plain": [
       "5.677003278199915"
      ]
     },
     "execution_count": 27,
     "metadata": {},
     "output_type": "execute_result"
    }
   ],
   "source": [
    "arr_3d[0, 1, 2]"
   ]
  },
  {
   "cell_type": "markdown",
   "id": "4deb5c71",
   "metadata": {},
   "source": [
    "Эти записи аналогичны следующим записям:"
   ]
  },
  {
   "cell_type": "code",
   "execution_count": 28,
   "id": "8b2b4ff4",
   "metadata": {},
   "outputs": [
    {
     "data": {
      "text/plain": [
       "0.15966252220214194"
      ]
     },
     "execution_count": 28,
     "metadata": {},
     "output_type": "execute_result"
    }
   ],
   "source": [
    "arr_2d[0][2]"
   ]
  },
  {
   "cell_type": "code",
   "execution_count": 29,
   "id": "856542e7",
   "metadata": {},
   "outputs": [
    {
     "data": {
      "text/plain": [
       "5.677003278199915"
      ]
     },
     "execution_count": 29,
     "metadata": {},
     "output_type": "execute_result"
    }
   ],
   "source": [
    "arr_3d[0][1][2]"
   ]
  },
  {
   "cell_type": "markdown",
   "id": "061ffbd5",
   "metadata": {},
   "source": [
    "### 4.2. Срезы.\n",
    "\n",
    "Массивы в NumPy также поддерживают операцию получения среза."
   ]
  },
  {
   "cell_type": "markdown",
   "id": "fca08a98",
   "metadata": {},
   "source": [
    "**Одномерный случай:** "
   ]
  },
  {
   "cell_type": "code",
   "execution_count": 30,
   "id": "556297fc",
   "metadata": {},
   "outputs": [
    {
     "data": {
      "text/plain": [
       "array([ 0,  1,  2,  3,  4,  5,  6,  7,  8,  9, 10, 11, 12, 13, 14, 15, 16,\n",
       "       17, 18, 19])"
      ]
     },
     "execution_count": 30,
     "metadata": {},
     "output_type": "execute_result"
    }
   ],
   "source": [
    "numbers = np.arange(20)\n",
    "numbers"
   ]
  },
  {
   "cell_type": "code",
   "execution_count": 31,
   "id": "956f5a20",
   "metadata": {},
   "outputs": [
    {
     "data": {
      "text/plain": [
       "array([5, 6, 7, 8, 9])"
      ]
     },
     "execution_count": 31,
     "metadata": {},
     "output_type": "execute_result"
    }
   ],
   "source": [
    "numbers[5: 10]"
   ]
  },
  {
   "cell_type": "code",
   "execution_count": 32,
   "id": "1bd4ee80",
   "metadata": {},
   "outputs": [
    {
     "data": {
      "text/plain": [
       "array([ 0,  2,  4,  6,  8, 10, 12, 14, 16, 18])"
      ]
     },
     "execution_count": 32,
     "metadata": {},
     "output_type": "execute_result"
    }
   ],
   "source": [
    "numbers[::2]"
   ]
  },
  {
   "cell_type": "code",
   "execution_count": 33,
   "id": "20f0de9f",
   "metadata": {},
   "outputs": [
    {
     "data": {
      "text/plain": [
       "array([ 1,  3,  5,  7,  9, 11, 13, 15, 17, 19])"
      ]
     },
     "execution_count": 33,
     "metadata": {},
     "output_type": "execute_result"
    }
   ],
   "source": [
    "numbers[1::2]"
   ]
  },
  {
   "cell_type": "code",
   "execution_count": 34,
   "id": "2153f88d",
   "metadata": {},
   "outputs": [
    {
     "data": {
      "text/plain": [
       "array([19, 18, 17, 16, 15, 14, 13, 12, 11, 10,  9,  8,  7,  6,  5,  4,  3,\n",
       "        2,  1,  0])"
      ]
     },
     "execution_count": 34,
     "metadata": {},
     "output_type": "execute_result"
    }
   ],
   "source": [
    "numbers[::-1]"
   ]
  },
  {
   "cell_type": "markdown",
   "id": "45a43234",
   "metadata": {},
   "source": [
    "**Многомерный случай:**"
   ]
  },
  {
   "cell_type": "code",
   "execution_count": 35,
   "id": "829f9381",
   "metadata": {},
   "outputs": [
    {
     "data": {
      "text/plain": [
       "array([[5.63288218, 3.85416503, 0.15966252],\n",
       "       [2.30893826, 2.41025466, 6.83263519],\n",
       "       [6.09996658, 8.33194912, 1.73364654]])"
      ]
     },
     "execution_count": 35,
     "metadata": {},
     "output_type": "execute_result"
    }
   ],
   "source": [
    "arr_2d"
   ]
  },
  {
   "cell_type": "code",
   "execution_count": 36,
   "id": "a8dcbbd1",
   "metadata": {},
   "outputs": [],
   "source": [
    "arr_2d[1:, 1:] = 100"
   ]
  },
  {
   "cell_type": "code",
   "execution_count": 37,
   "id": "c4106f7c",
   "metadata": {},
   "outputs": [
    {
     "data": {
      "text/plain": [
       "array([[  5.63288218,   3.85416503,   0.15966252],\n",
       "       [  2.30893826, 100.        , 100.        ],\n",
       "       [  6.09996658, 100.        , 100.        ]])"
      ]
     },
     "execution_count": 37,
     "metadata": {},
     "output_type": "execute_result"
    }
   ],
   "source": [
    "arr_2d"
   ]
  },
  {
   "cell_type": "code",
   "execution_count": 38,
   "id": "7d503360",
   "metadata": {},
   "outputs": [
    {
     "data": {
      "text/plain": [
       "array([[  5.63288218,   0.15966252],\n",
       "       [  6.09996658, 100.        ]])"
      ]
     },
     "execution_count": 38,
     "metadata": {},
     "output_type": "execute_result"
    }
   ],
   "source": [
    "arr_2d[::2, ::2]"
   ]
  },
  {
   "cell_type": "code",
   "execution_count": 39,
   "id": "738edb31",
   "metadata": {},
   "outputs": [
    {
     "data": {
      "text/plain": [
       "array([6.09996658, 2.30893826, 5.63288218])"
      ]
     },
     "execution_count": 39,
     "metadata": {},
     "output_type": "execute_result"
    }
   ],
   "source": [
    "arr_2d[::-1, 0]"
   ]
  },
  {
   "cell_type": "markdown",
   "id": "71d1c4e1",
   "metadata": {},
   "source": [
    "Важное замечание: в ходе получения среза, мы не создаем новый массив, а лишь получаем доступ к фрагменту существующего массива, иначе говоря, получаем его представление(view). Поэтому стоит быть аккуратными:"
   ]
  },
  {
   "cell_type": "code",
   "execution_count": 40,
   "id": "38e740c9",
   "metadata": {},
   "outputs": [
    {
     "data": {
      "text/plain": [
       "array([ 0,  1,  2,  3,  4,  5,  6,  7,  8,  9, 10, 11, 12, 13, 14, 15, 16,\n",
       "       17, 18, 19])"
      ]
     },
     "execution_count": 40,
     "metadata": {},
     "output_type": "execute_result"
    }
   ],
   "source": [
    "numbers"
   ]
  },
  {
   "cell_type": "code",
   "execution_count": 41,
   "id": "e8a593b9",
   "metadata": {},
   "outputs": [
    {
     "data": {
      "text/plain": [
       "array([  0,   1,   2,   3,   4, 100, 100, 100, 100, 100,  10,  11,  12,\n",
       "        13,  14,  15,  16,  17,  18,  19])"
      ]
     },
     "execution_count": 41,
     "metadata": {},
     "output_type": "execute_result"
    }
   ],
   "source": [
    "my_slice = numbers[5: 10]\n",
    "my_slice[:] = 100\n",
    "numbers"
   ]
  },
  {
   "cell_type": "markdown",
   "id": "77799a67",
   "metadata": {},
   "source": [
    "При необходимости скопировать массив, используйте явно метод copy()."
   ]
  },
  {
   "cell_type": "markdown",
   "id": "529627ce",
   "metadata": {},
   "source": [
    "### 4.3. Индексация массивом.\n",
    "\n",
    "Можно получить сразу несколько элементов, индексируя массив последовательностью индексов."
   ]
  },
  {
   "cell_type": "markdown",
   "id": "6e73b5e3",
   "metadata": {},
   "source": [
    "**Одномерный случай:**"
   ]
  },
  {
   "cell_type": "code",
   "execution_count": 42,
   "id": "f11cb794",
   "metadata": {},
   "outputs": [
    {
     "data": {
      "text/plain": [
       "array([0, 7, 7, 2, 0, 7, 2, 2, 0, 4, 9, 6, 9, 8, 6])"
      ]
     },
     "execution_count": 42,
     "metadata": {},
     "output_type": "execute_result"
    }
   ],
   "source": [
    "data = np.random.randint(0, 10, size=15)\n",
    "data"
   ]
  },
  {
   "cell_type": "code",
   "execution_count": 43,
   "id": "7da4f776",
   "metadata": {},
   "outputs": [
    {
     "data": {
      "text/plain": [
       "array([7, 2, 0, 8])"
      ]
     },
     "execution_count": 43,
     "metadata": {},
     "output_type": "execute_result"
    }
   ],
   "source": [
    "indices = [2, 7, 8, 13]\n",
    "data[indices]"
   ]
  },
  {
   "cell_type": "markdown",
   "id": "76f06330",
   "metadata": {},
   "source": [
    "**Многомерный случай:**"
   ]
  },
  {
   "cell_type": "code",
   "execution_count": 44,
   "id": "eec7fa2d",
   "metadata": {},
   "outputs": [
    {
     "data": {
      "text/plain": [
       "array([[0, 7, 7],\n",
       "       [2, 0, 7],\n",
       "       [2, 2, 0],\n",
       "       [4, 9, 6],\n",
       "       [9, 8, 6]])"
      ]
     },
     "execution_count": 44,
     "metadata": {},
     "output_type": "execute_result"
    }
   ],
   "source": [
    "data_2d = data.reshape(5, 3)\n",
    "data_2d"
   ]
  },
  {
   "cell_type": "code",
   "execution_count": 45,
   "id": "8823dd62",
   "metadata": {},
   "outputs": [
    {
     "data": {
      "text/plain": [
       "array([[2, 7],\n",
       "       [2, 0],\n",
       "       [9, 6]])"
      ]
     },
     "execution_count": 45,
     "metadata": {},
     "output_type": "execute_result"
    }
   ],
   "source": [
    "indices1 = np.array([1, 2, 4])\n",
    "indices2 = np.array([0, 2])\n",
    "\n",
    "ind1 = np.tile(indices1, indices2.size)\n",
    "ind2 = np.repeat(indices2, indices1.size)\n",
    "\n",
    "data_2d[ind1, ind2].reshape(indices2.size, -1).T"
   ]
  },
  {
   "cell_type": "code",
   "execution_count": 46,
   "id": "8dab41bc",
   "metadata": {},
   "outputs": [
    {
     "data": {
      "text/plain": [
       "array([[2, 7],\n",
       "       [2, 0],\n",
       "       [9, 6]])"
      ]
     },
     "execution_count": 46,
     "metadata": {},
     "output_type": "execute_result"
    }
   ],
   "source": [
    "data_2d[indices1][:, indices2]"
   ]
  },
  {
   "cell_type": "markdown",
   "id": "bc4483ff",
   "metadata": {},
   "source": [
    "## 5. Изменение формы массива."
   ]
  },
  {
   "cell_type": "markdown",
   "id": "fd9c6067",
   "metadata": {},
   "source": [
    "**reshape:**\n",
    "\n",
    "Чаще всего для изменения формы массива используется метод reshape, которая возвращает новый массив с измененной формой."
   ]
  },
  {
   "cell_type": "code",
   "execution_count": 47,
   "id": "b67d078e",
   "metadata": {},
   "outputs": [
    {
     "data": {
      "text/plain": [
       "array([  0,   1,   2,   3,   4, 100, 100, 100, 100, 100,  10,  11,  12,\n",
       "        13,  14,  15,  16,  17,  18,  19])"
      ]
     },
     "execution_count": 47,
     "metadata": {},
     "output_type": "execute_result"
    }
   ],
   "source": [
    "numbers"
   ]
  },
  {
   "cell_type": "code",
   "execution_count": 48,
   "id": "4dedfc55",
   "metadata": {},
   "outputs": [
    {
     "data": {
      "text/plain": [
       "array([[  0,   1,   2,   3],\n",
       "       [  4, 100, 100, 100],\n",
       "       [100, 100,  10,  11],\n",
       "       [ 12,  13,  14,  15],\n",
       "       [ 16,  17,  18,  19]])"
      ]
     },
     "execution_count": 48,
     "metadata": {},
     "output_type": "execute_result"
    }
   ],
   "source": [
    "numbers.reshape(5, 4)"
   ]
  },
  {
   "cell_type": "markdown",
   "id": "3d0e4e88",
   "metadata": {},
   "source": [
    "**T:**\n",
    "\n",
    "Часто нам не требуется изобратеть новую форму массива, а необходимо лишь транспонировать его. Для этого достаточно вызвать отрибут T, возвращающий странспонированную матрицу (работает только с многомерными массивами)."
   ]
  },
  {
   "cell_type": "code",
   "execution_count": 49,
   "id": "f1336541",
   "metadata": {},
   "outputs": [
    {
     "data": {
      "text/plain": [
       "array([[  5.63288218,   3.85416503,   0.15966252],\n",
       "       [  2.30893826, 100.        , 100.        ],\n",
       "       [  6.09996658, 100.        , 100.        ]])"
      ]
     },
     "execution_count": 49,
     "metadata": {},
     "output_type": "execute_result"
    }
   ],
   "source": [
    "arr_2d"
   ]
  },
  {
   "cell_type": "code",
   "execution_count": 50,
   "id": "a748f49b",
   "metadata": {},
   "outputs": [
    {
     "data": {
      "text/plain": [
       "array([[  5.63288218,   2.30893826,   6.09996658],\n",
       "       [  3.85416503, 100.        , 100.        ],\n",
       "       [  0.15966252, 100.        , 100.        ]])"
      ]
     },
     "execution_count": 50,
     "metadata": {},
     "output_type": "execute_result"
    }
   ],
   "source": [
    "arr_2d.T"
   ]
  },
  {
   "cell_type": "markdown",
   "id": "24cb1503",
   "metadata": {},
   "source": [
    "**newaxis:**\n",
    "\n",
    "Также для векторизации многих операций вам может понадобиться создать новое измерение в массиве. Для этот следует использовать np.newaxis:"
   ]
  },
  {
   "cell_type": "code",
   "execution_count": 51,
   "id": "dd5797c1",
   "metadata": {},
   "outputs": [
    {
     "data": {
      "text/plain": [
       "array([[  0,   1,   2,   3,   4, 100, 100, 100, 100, 100,  10,  11,  12,\n",
       "         13,  14,  15,  16,  17,  18,  19]])"
      ]
     },
     "execution_count": 51,
     "metadata": {},
     "output_type": "execute_result"
    }
   ],
   "source": [
    "numbers[np.newaxis, :]"
   ]
  },
  {
   "cell_type": "code",
   "execution_count": 52,
   "id": "67a6f1e2",
   "metadata": {},
   "outputs": [
    {
     "data": {
      "text/plain": [
       "array([[  0],\n",
       "       [  1],\n",
       "       [  2],\n",
       "       [  3],\n",
       "       [  4],\n",
       "       [100],\n",
       "       [100],\n",
       "       [100],\n",
       "       [100],\n",
       "       [100],\n",
       "       [ 10],\n",
       "       [ 11],\n",
       "       [ 12],\n",
       "       [ 13],\n",
       "       [ 14],\n",
       "       [ 15],\n",
       "       [ 16],\n",
       "       [ 17],\n",
       "       [ 18],\n",
       "       [ 19]])"
      ]
     },
     "execution_count": 52,
     "metadata": {},
     "output_type": "execute_result"
    }
   ],
   "source": [
    "numbers[:, np.newaxis]"
   ]
  },
  {
   "cell_type": "markdown",
   "id": "69aced88",
   "metadata": {},
   "source": [
    "## 6. Объединение и разбиение массивов."
   ]
  },
  {
   "cell_type": "markdown",
   "id": "a99b0f5a",
   "metadata": {},
   "source": [
    "### 6.1 Объединение."
   ]
  },
  {
   "cell_type": "code",
   "execution_count": 54,
   "id": "dffde080",
   "metadata": {},
   "outputs": [
    {
     "name": "stdout",
     "output_type": "stream",
     "text": [
      "[0 1 2]\n",
      "\n",
      "[3 4 5]\n",
      "\n",
      "[[2 2 0]\n",
      " [2 4 5]\n",
      " [2 0 4]]\n"
     ]
    }
   ],
   "source": [
    "arr1 = np.arange(3)\n",
    "arr2 = np.arange(3, 6)\n",
    "\n",
    "matrix = np.random.randint(0, 6, size=(3, 3))\n",
    "\n",
    "print(arr1, arr2, matrix, sep='\\n\\n')"
   ]
  },
  {
   "cell_type": "markdown",
   "id": "9464c36c",
   "metadata": {},
   "source": [
    "**concatenate:**\n",
    "\n",
    "Дописывает один массив в конец другого. Массивы должны иметь одинаковое число измерений. С помощью параметра axis возможен выбор измерения, по которому массивы будут конкатенироваться."
   ]
  },
  {
   "cell_type": "code",
   "execution_count": 53,
   "id": "41f81e36",
   "metadata": {},
   "outputs": [
    {
     "data": {
      "text/plain": [
       "array([0, 1, 2, 3, 4, 5])"
      ]
     },
     "execution_count": 53,
     "metadata": {},
     "output_type": "execute_result"
    }
   ],
   "source": [
    "np.concatenate((arr1, arr2))"
   ]
  },
  {
   "cell_type": "code",
   "execution_count": 55,
   "id": "7869ffc8",
   "metadata": {},
   "outputs": [
    {
     "data": {
      "text/plain": [
       "array([[2, 2, 0],\n",
       "       [2, 4, 5],\n",
       "       [2, 0, 4],\n",
       "       [0, 1, 2]])"
      ]
     },
     "execution_count": 55,
     "metadata": {},
     "output_type": "execute_result"
    }
   ],
   "source": [
    "np.concatenate((matrix, arr1[np.newaxis, :]))"
   ]
  },
  {
   "cell_type": "code",
   "execution_count": 56,
   "id": "221ad4f7",
   "metadata": {},
   "outputs": [
    {
     "data": {
      "text/plain": [
       "array([[2, 2, 0, 0],\n",
       "       [2, 4, 5, 1],\n",
       "       [2, 0, 4, 2]])"
      ]
     },
     "execution_count": 56,
     "metadata": {},
     "output_type": "execute_result"
    }
   ],
   "source": [
    "np.concatenate((matrix, arr1[:, np.newaxis]), axis=1)"
   ]
  },
  {
   "cell_type": "markdown",
   "id": "bf5f1c10",
   "metadata": {},
   "source": [
    "**hstack:**\n",
    "\n",
    "В случае двумерного массива приписывает новый столбец."
   ]
  },
  {
   "cell_type": "code",
   "execution_count": 57,
   "id": "85371e82",
   "metadata": {},
   "outputs": [
    {
     "data": {
      "text/plain": [
       "array([[2, 2, 0, 0],\n",
       "       [2, 4, 5, 1],\n",
       "       [2, 0, 4, 2]])"
      ]
     },
     "execution_count": 57,
     "metadata": {},
     "output_type": "execute_result"
    }
   ],
   "source": [
    "np.hstack((matrix, arr1[:, np.newaxis]))"
   ]
  },
  {
   "cell_type": "markdown",
   "id": "acf0afa7",
   "metadata": {},
   "source": [
    "**vstack:**\n",
    "\n",
    "В случае двумерного массива приписывает новую строку."
   ]
  },
  {
   "cell_type": "code",
   "execution_count": 58,
   "id": "c50bd5de",
   "metadata": {},
   "outputs": [
    {
     "data": {
      "text/plain": [
       "array([[2, 2, 0],\n",
       "       [2, 4, 5],\n",
       "       [2, 0, 4],\n",
       "       [0, 1, 2]])"
      ]
     },
     "execution_count": 58,
     "metadata": {},
     "output_type": "execute_result"
    }
   ],
   "source": [
    "np.vstack((matrix, arr1))"
   ]
  },
  {
   "cell_type": "markdown",
   "id": "094fecc2",
   "metadata": {},
   "source": [
    "### 6.2. Разбиение."
   ]
  },
  {
   "cell_type": "code",
   "execution_count": 59,
   "id": "8c65e91f",
   "metadata": {},
   "outputs": [
    {
     "data": {
      "text/plain": [
       "array([[ 0,  1,  2,  3,  4],\n",
       "       [ 5,  6,  7,  8,  9],\n",
       "       [10, 11, 12, 13, 14],\n",
       "       [15, 16, 17, 18, 19]])"
      ]
     },
     "execution_count": 59,
     "metadata": {},
     "output_type": "execute_result"
    }
   ],
   "source": [
    "arr = np.arange(20).reshape(4, 5)\n",
    "arr"
   ]
  },
  {
   "cell_type": "markdown",
   "id": "635369f2",
   "metadata": {},
   "source": [
    "**split:**\n",
    "\n",
    "Вы можете разделить массив с помощью функции split, передав ей в качестве аргументов массив для разделения и индексы, по которым следует разделять массив."
   ]
  },
  {
   "cell_type": "code",
   "execution_count": 61,
   "id": "2a134d20",
   "metadata": {},
   "outputs": [
    {
     "data": {
      "text/plain": [
       "[array([[ 0],\n",
       "        [ 5],\n",
       "        [10],\n",
       "        [15]]),\n",
       " array([[ 1,  2],\n",
       "        [ 6,  7],\n",
       "        [11, 12],\n",
       "        [16, 17]]),\n",
       " array([[ 3,  4],\n",
       "        [ 8,  9],\n",
       "        [13, 14],\n",
       "        [18, 19]])]"
      ]
     },
     "execution_count": 61,
     "metadata": {},
     "output_type": "execute_result"
    }
   ],
   "source": [
    "np.split(arr, (1, 3), axis=1)"
   ]
  },
  {
   "cell_type": "markdown",
   "id": "69598a77",
   "metadata": {},
   "source": [
    "## 7. Агрегирование.\n",
    "\n",
    "Функция агрегирования могут быть очень полезными при разведочном анализе данных."
   ]
  },
  {
   "cell_type": "code",
   "execution_count": 63,
   "id": "2463e960",
   "metadata": {},
   "outputs": [],
   "source": [
    "data = np.random.normal(loc=0, scale=1, size=(2000, 500))"
   ]
  },
  {
   "cell_type": "markdown",
   "id": "daa974e8",
   "metadata": {},
   "source": [
    "### 7.1. Вычисление суммы.\n",
    "\n",
    "В Python есть встроенная функция для вычисления суммы элементов итерируемого объекта, одна она имеет ряд недостатков. Во-первых, вы будете сильно удивлены результатом применениия данной функции к многомерному массиву numpy, поскольку суммирование осуществляется только вдоль первой оси. Во-вторых, из-за реализации Python, функция sum выполняется гораздо медленнее в сравнении с np.sum. "
   ]
  },
  {
   "cell_type": "code",
   "execution_count": 68,
   "id": "cfa949d2",
   "metadata": {},
   "outputs": [
    {
     "name": "stdout",
     "output_type": "stream",
     "text": [
      "488 ns ± 6.66 ns per loop (mean ± std. dev. of 7 runs, 1,000,000 loops each)\n"
     ]
    }
   ],
   "source": [
    "%timeit data.reshape(-1)"
   ]
  },
  {
   "cell_type": "code",
   "execution_count": 67,
   "id": "4b068add",
   "metadata": {},
   "outputs": [
    {
     "name": "stdout",
     "output_type": "stream",
     "text": [
      "179 ms ± 2.7 ms per loop (mean ± std. dev. of 7 runs, 10 loops each)\n"
     ]
    }
   ],
   "source": [
    "%timeit sum(reshaped)"
   ]
  },
  {
   "cell_type": "code",
   "execution_count": 65,
   "id": "39d14bc0",
   "metadata": {},
   "outputs": [
    {
     "name": "stdout",
     "output_type": "stream",
     "text": [
      "1.63 ms ± 18.3 µs per loop (mean ± std. dev. of 7 runs, 1,000 loops each)\n"
     ]
    }
   ],
   "source": [
    "%timeit np.sum(data)"
   ]
  },
  {
   "cell_type": "markdown",
   "id": "21dcf7f1",
   "metadata": {},
   "source": [
    "Также с помощью функции np.sum() возможно вычисление сумм элементов каждой строки или каждого столбца:"
   ]
  },
  {
   "cell_type": "code",
   "execution_count": 71,
   "id": "adbaff5a",
   "metadata": {},
   "outputs": [
    {
     "name": "stdout",
     "output_type": "stream",
     "text": [
      "<class 'tuple'>\n"
     ]
    }
   ],
   "source": [
    "print(np.sum(data, axis=0).shape)"
   ]
  },
  {
   "cell_type": "code",
   "execution_count": 70,
   "id": "7fbabf62",
   "metadata": {},
   "outputs": [
    {
     "name": "stdout",
     "output_type": "stream",
     "text": [
      "(2000,)\n"
     ]
    }
   ],
   "source": [
    "print(np.sum(data, axis=1).shape)"
   ]
  },
  {
   "cell_type": "markdown",
   "id": "aa91d8ce",
   "metadata": {},
   "source": [
    "### 7.2. Вычисление произведения.\n",
    "\n",
    "Помимо суммы возможно вычисление произведения всех элементов массива, или вычисление произведения элементов вдоль требуемого измерения."
   ]
  },
  {
   "cell_type": "code",
   "execution_count": 72,
   "id": "b7215096",
   "metadata": {},
   "outputs": [
    {
     "data": {
      "text/plain": [
       "-0.0"
      ]
     },
     "execution_count": 72,
     "metadata": {},
     "output_type": "execute_result"
    }
   ],
   "source": [
    "np.prod(data)"
   ]
  },
  {
   "cell_type": "markdown",
   "id": "65273789",
   "metadata": {},
   "source": [
    "### 7.3. Вычисление стреднего значения."
   ]
  },
  {
   "cell_type": "code",
   "execution_count": 73,
   "id": "9a10aa79",
   "metadata": {},
   "outputs": [
    {
     "data": {
      "text/plain": [
       "0.00045438494778208123"
      ]
     },
     "execution_count": 73,
     "metadata": {},
     "output_type": "execute_result"
    }
   ],
   "source": [
    "data.mean()"
   ]
  },
  {
   "cell_type": "code",
   "execution_count": 74,
   "id": "3f9143cc",
   "metadata": {},
   "outputs": [
    {
     "name": "stdout",
     "output_type": "stream",
     "text": [
      "(500,)\n"
     ]
    }
   ],
   "source": [
    "print(data.mean(axis=0).shape)"
   ]
  },
  {
   "cell_type": "markdown",
   "id": "9f0ced9d",
   "metadata": {},
   "source": [
    "### 7.4. Среднеквадратичное отклонение."
   ]
  },
  {
   "cell_type": "code",
   "execution_count": 75,
   "id": "480c9a75",
   "metadata": {},
   "outputs": [
    {
     "data": {
      "text/plain": [
       "0.9996403458453681"
      ]
     },
     "execution_count": 75,
     "metadata": {},
     "output_type": "execute_result"
    }
   ],
   "source": [
    "data.std()"
   ]
  },
  {
   "cell_type": "markdown",
   "id": "9910cbfe",
   "metadata": {},
   "source": [
    "### 7.5. Максимум и минимум."
   ]
  },
  {
   "cell_type": "code",
   "execution_count": 76,
   "id": "779b4361",
   "metadata": {},
   "outputs": [
    {
     "data": {
      "text/plain": [
       "4.57891438757606"
      ]
     },
     "execution_count": 76,
     "metadata": {},
     "output_type": "execute_result"
    }
   ],
   "source": [
    "data.max()"
   ]
  },
  {
   "cell_type": "code",
   "execution_count": 77,
   "id": "c14086dc",
   "metadata": {},
   "outputs": [
    {
     "data": {
      "text/plain": [
       "-4.899799361837897"
      ]
     },
     "execution_count": 77,
     "metadata": {},
     "output_type": "execute_result"
    }
   ],
   "source": [
    "data.min()"
   ]
  },
  {
   "cell_type": "markdown",
   "id": "60da9dfe",
   "metadata": {},
   "source": [
    "### 7.6. Положения максимального и минимального элементов.\n",
    "\n",
    "Иногда полезно знать положение максимального или минимального элемента в нашем массиве. Для этого в NumPy существуют специальные функции:"
   ]
  },
  {
   "cell_type": "code",
   "execution_count": 71,
   "id": "0f9de63f",
   "metadata": {},
   "outputs": [
    {
     "data": {
      "text/plain": [
       "(1166, 352)"
      ]
     },
     "execution_count": 71,
     "metadata": {},
     "output_type": "execute_result"
    }
   ],
   "source": [
    "np.unravel_index(np.argmax(data), shape=data.shape)"
   ]
  },
  {
   "cell_type": "code",
   "execution_count": 72,
   "id": "ddf6f511",
   "metadata": {},
   "outputs": [
    {
     "data": {
      "text/plain": [
       "(902, 147)"
      ]
     },
     "execution_count": 72,
     "metadata": {},
     "output_type": "execute_result"
    }
   ],
   "source": [
    "np.unravel_index(np.argmin(data), shape=data.shape)"
   ]
  },
  {
   "cell_type": "markdown",
   "id": "472c4c69",
   "metadata": {},
   "source": [
    "### 7.7. Сортировки.\n",
    "\n",
    "Некоторые задачи требуют осуществление сортировки. В NumPy существуют несколько видов сортировок."
   ]
  },
  {
   "cell_type": "code",
   "execution_count": 78,
   "id": "dc62c359",
   "metadata": {},
   "outputs": [
    {
     "data": {
      "text/plain": [
       "array([[5.26827428, 6.67230231, 6.62700722, 5.74034543],\n",
       "       [4.96538225, 6.89930451, 4.77697984, 5.49593012],\n",
       "       [7.76363829, 5.38501865, 4.63419395, 3.61344152],\n",
       "       [4.36587695, 5.23885243, 6.33878419, 5.74451331],\n",
       "       [5.74335626, 4.21153865, 4.24494212, 5.05588282]])"
      ]
     },
     "execution_count": 78,
     "metadata": {},
     "output_type": "execute_result"
    }
   ],
   "source": [
    "data = np.random.normal(loc=5, scale=1, size=(5, 4))\n",
    "data"
   ]
  },
  {
   "cell_type": "markdown",
   "id": "1b0de841",
   "metadata": {},
   "source": [
    "**sort:**\n",
    "\n",
    "Функция sort() осуществляет непосредственную сортировку массива."
   ]
  },
  {
   "cell_type": "code",
   "execution_count": 79,
   "id": "71d16164",
   "metadata": {},
   "outputs": [
    {
     "data": {
      "text/plain": [
       "array([[5.26827428, 5.74034543, 6.62700722, 6.67230231],\n",
       "       [4.77697984, 4.96538225, 5.49593012, 6.89930451],\n",
       "       [3.61344152, 4.63419395, 5.38501865, 7.76363829],\n",
       "       [4.36587695, 5.23885243, 5.74451331, 6.33878419],\n",
       "       [4.21153865, 4.24494212, 5.05588282, 5.74335626]])"
      ]
     },
     "execution_count": 79,
     "metadata": {},
     "output_type": "execute_result"
    }
   ],
   "source": [
    "np.sort(data)"
   ]
  },
  {
   "cell_type": "markdown",
   "id": "4862d34e",
   "metadata": {},
   "source": [
    "В случае многомерного массива sort сортрует данные в рамках строки. Однако с помощью параметра axis возможна сортировка по столбцам:"
   ]
  },
  {
   "cell_type": "code",
   "execution_count": 80,
   "id": "1437c169",
   "metadata": {},
   "outputs": [
    {
     "data": {
      "text/plain": [
       "array([[4.36587695, 4.21153865, 4.24494212, 3.61344152],\n",
       "       [4.96538225, 5.23885243, 4.63419395, 5.05588282],\n",
       "       [5.26827428, 5.38501865, 4.77697984, 5.49593012],\n",
       "       [5.74335626, 6.67230231, 6.33878419, 5.74034543],\n",
       "       [7.76363829, 6.89930451, 6.62700722, 5.74451331]])"
      ]
     },
     "execution_count": 80,
     "metadata": {},
     "output_type": "execute_result"
    }
   ],
   "source": [
    "np.sort(data, axis=0)"
   ]
  },
  {
   "cell_type": "markdown",
   "id": "d3950a32",
   "metadata": {},
   "source": [
    "**argsort:**\n",
    "\n",
    "Еще один способ сортировки массива - функция argsort, которая возвращает не отсортированный массив, а последовательность индексов - положения элементов в отсортированной последовательности. "
   ]
  },
  {
   "cell_type": "code",
   "execution_count": 81,
   "id": "f793859c",
   "metadata": {},
   "outputs": [
    {
     "data": {
      "text/plain": [
       "array([[0, 3, 2, 1],\n",
       "       [2, 0, 3, 1],\n",
       "       [3, 2, 1, 0],\n",
       "       [0, 1, 3, 2],\n",
       "       [1, 2, 3, 0]], dtype=int64)"
      ]
     },
     "execution_count": 81,
     "metadata": {},
     "output_type": "execute_result"
    }
   ],
   "source": [
    "np.argsort(data)"
   ]
  },
  {
   "cell_type": "code",
   "execution_count": 82,
   "id": "7c03bba7",
   "metadata": {},
   "outputs": [
    {
     "data": {
      "text/plain": [
       "array([[3, 4, 4, 2],\n",
       "       [1, 3, 2, 4],\n",
       "       [0, 2, 1, 1],\n",
       "       [4, 0, 3, 0],\n",
       "       [2, 1, 0, 3]], dtype=int64)"
      ]
     },
     "execution_count": 82,
     "metadata": {},
     "output_type": "execute_result"
    }
   ],
   "source": [
    "np.argsort(data, axis=0)"
   ]
  },
  {
   "cell_type": "markdown",
   "id": "1cddd4ff",
   "metadata": {},
   "source": [
    "### 7.8. Nan-безопасное агрегирование."
   ]
  },
  {
   "cell_type": "markdown",
   "id": "0754caea",
   "metadata": {},
   "source": [
    "Иногда данные, с которыми мы работаем, могут быть неполными. В NumPy пропущенные данные принято обозначать специальным значением - np.nan, сигнализирующим об отсутствии данных. Nan имеет очень интересную механику взаимодействия с остальными типами. При проведении любых операций между nan-ом и экземпляром любого другого типа данных результат вычисления - nan."
   ]
  },
  {
   "cell_type": "code",
   "execution_count": 83,
   "id": "d0b1eba4",
   "metadata": {},
   "outputs": [
    {
     "data": {
      "text/plain": [
       "array([ 0.,  1.,  2., nan,  3.])"
      ]
     },
     "execution_count": 83,
     "metadata": {},
     "output_type": "execute_result"
    }
   ],
   "source": [
    "arr = np.array([0, 1, 2, np.nan, 3])\n",
    "arr"
   ]
  },
  {
   "cell_type": "code",
   "execution_count": 84,
   "id": "9490e623",
   "metadata": {},
   "outputs": [
    {
     "data": {
      "text/plain": [
       "nan"
      ]
     },
     "execution_count": 84,
     "metadata": {},
     "output_type": "execute_result"
    }
   ],
   "source": [
    "np.sum(arr)"
   ]
  },
  {
   "cell_type": "markdown",
   "id": "e31e0dd6",
   "metadata": {},
   "source": [
    "Как мы видим, подобное поведение может сильно портить результаты, и замедлять обработку данных. К счастью, в NumPy существуют nan-безопасные аналоги функций агрегирования. "
   ]
  },
  {
   "cell_type": "code",
   "execution_count": 85,
   "id": "fbe15e31",
   "metadata": {},
   "outputs": [
    {
     "data": {
      "text/plain": [
       "6.0"
      ]
     },
     "execution_count": 85,
     "metadata": {},
     "output_type": "execute_result"
    }
   ],
   "source": [
    "np.nansum(arr)"
   ]
  },
  {
   "cell_type": "markdown",
   "id": "657873f5",
   "metadata": {},
   "source": [
    "Nan-безопасные функции относятся к nan-ам, как к нулевым значениям, или просто игнорируют их."
   ]
  },
  {
   "cell_type": "code",
   "execution_count": 86,
   "id": "7165861b",
   "metadata": {},
   "outputs": [
    {
     "data": {
      "text/plain": [
       "1.0"
      ]
     },
     "execution_count": 86,
     "metadata": {},
     "output_type": "execute_result"
    }
   ],
   "source": [
    "arr = np.array([1, 2, 3, 4, np.nan, 5])\n",
    "np.nanmin(arr)"
   ]
  },
  {
   "cell_type": "markdown",
   "id": "4d6add55",
   "metadata": {},
   "source": [
    "## 8. Операции над массивами и векторизация."
   ]
  },
  {
   "cell_type": "markdown",
   "id": "3032ed17",
   "metadata": {},
   "source": [
    "### 8.1. Арифметические операции.\n",
    "\n",
    "Из-за динамической типизации Python очень плохо справляется с выполнением арифметических операций над большими объемами данных. В частности очень медленно выполняются операции в цикле. \n",
    "\n",
    "Например, предположим, что нам нужно посчитать матрицу значений, обратных к данным."
   ]
  },
  {
   "cell_type": "code",
   "execution_count": 87,
   "id": "4d572d58",
   "metadata": {},
   "outputs": [],
   "source": [
    "def get_reciprocal(array: np.ndarray) -> np.ndarray:\n",
    "    \n",
    "    for i in range(array.shape[0]):\n",
    "        array[i] = 1. / array[i]\n",
    "        \n",
    "    return array"
   ]
  },
  {
   "cell_type": "code",
   "execution_count": 88,
   "id": "1cd1e845",
   "metadata": {},
   "outputs": [],
   "source": [
    "array = np.random.uniform(1, 5, size=10000000)"
   ]
  },
  {
   "cell_type": "code",
   "execution_count": 89,
   "id": "7f86cb38",
   "metadata": {},
   "outputs": [
    {
     "name": "stdout",
     "output_type": "stream",
     "text": [
      "5.31 s ± 155 ms per loop (mean ± std. dev. of 7 runs, 1 loop each)\n"
     ]
    }
   ],
   "source": [
    "%timeit get_reciprocal(array)"
   ]
  },
  {
   "cell_type": "code",
   "execution_count": 90,
   "id": "cab46dac",
   "metadata": {},
   "outputs": [
    {
     "name": "stdout",
     "output_type": "stream",
     "text": [
      "31.4 ms ± 1.78 ms per loop (mean ± std. dev. of 7 runs, 10 loops each)\n"
     ]
    }
   ],
   "source": [
    "%timeit 1 / array"
   ]
  },
  {
   "cell_type": "markdown",
   "id": "1bdbb1de",
   "metadata": {},
   "source": [
    "Как видите NumPy справляется с этой задачей гораздо быстрее Python."
   ]
  },
  {
   "cell_type": "markdown",
   "id": "393840c0",
   "metadata": {},
   "source": [
    "NumPy поддерживает арифметические операции между массивами одной формы, массивами и числами, а также между массивами разной формы.\n",
    "\n",
    "Отдельно остановимся на операциях между массивами разной формы. Подобные операции позволяют векторизовать вычисления, т.е. избежать использования циклов for, что значительно ускоряет вычисления. \n",
    "\n",
    "Рассмотрим пример, в котором нам необходимо найти разницу между всеми парами чисел в массиве:"
   ]
  },
  {
   "cell_type": "code",
   "execution_count": 91,
   "id": "3d98a316",
   "metadata": {},
   "outputs": [
    {
     "data": {
      "text/plain": [
       "array([0, 1, 2, 3, 4, 5, 6, 7, 8, 9])"
      ]
     },
     "execution_count": 91,
     "metadata": {},
     "output_type": "execute_result"
    }
   ],
   "source": [
    "array = np.arange(10)\n",
    "array"
   ]
  },
  {
   "cell_type": "code",
   "execution_count": 92,
   "id": "8ae9d989",
   "metadata": {},
   "outputs": [
    {
     "data": {
      "text/plain": [
       "array([[ 0, -1, -2, -3, -4, -5, -6, -7, -8, -9],\n",
       "       [ 1,  0, -1, -2, -3, -4, -5, -6, -7, -8],\n",
       "       [ 2,  1,  0, -1, -2, -3, -4, -5, -6, -7],\n",
       "       [ 3,  2,  1,  0, -1, -2, -3, -4, -5, -6],\n",
       "       [ 4,  3,  2,  1,  0, -1, -2, -3, -4, -5],\n",
       "       [ 5,  4,  3,  2,  1,  0, -1, -2, -3, -4],\n",
       "       [ 6,  5,  4,  3,  2,  1,  0, -1, -2, -3],\n",
       "       [ 7,  6,  5,  4,  3,  2,  1,  0, -1, -2],\n",
       "       [ 8,  7,  6,  5,  4,  3,  2,  1,  0, -1],\n",
       "       [ 9,  8,  7,  6,  5,  4,  3,  2,  1,  0]])"
      ]
     },
     "execution_count": 92,
     "metadata": {},
     "output_type": "execute_result"
    }
   ],
   "source": [
    "array[:, np.newaxis] - array"
   ]
  },
  {
   "cell_type": "code",
   "execution_count": 93,
   "id": "01cc6cb0",
   "metadata": {},
   "outputs": [
    {
     "name": "stdout",
     "output_type": "stream",
     "text": [
      "[[0]\n",
      " [1]\n",
      " [2]\n",
      " [3]\n",
      " [4]\n",
      " [5]\n",
      " [6]\n",
      " [7]\n",
      " [8]\n",
      " [9]]\n",
      "\n",
      "[0 1 2 3 4 5 6 7 8 9]\n"
     ]
    }
   ],
   "source": [
    "print(array[:, np.newaxis], array, sep='\\n\\n')"
   ]
  },
  {
   "cell_type": "code",
   "execution_count": 94,
   "id": "0bc776ce",
   "metadata": {},
   "outputs": [
    {
     "name": "stdout",
     "output_type": "stream",
     "text": [
      "(10, 1) (10,)\n"
     ]
    }
   ],
   "source": [
    "print(array[:, np.newaxis].shape, array.shape)"
   ]
  },
  {
   "cell_type": "markdown",
   "id": "03f39f77",
   "metadata": {},
   "source": [
    "Проведение операций над массивами разных размеров называется транслированием (broadcasting). Транслированием осуществляется по определенным правилам:\n",
    "\n",
    "+ Если размерность двух массивов отличается, форма массива с меньшей размерностью дополняется единицей с левой стороны;  \n",
    "+ Если форма двух массивов не совпадает в каком-то измерении, массив с формой, равной 1 в этом измерении, растягивается вплоть до соответствия форме второго массива;  \n",
    "+ Если в каком-то измерении размеры массивов различаются и ни один не равен 1, генерируется ошибка;\n",
    "\n",
    "![broadcasting](broadcasting.png)"
   ]
  },
  {
   "cell_type": "markdown",
   "id": "379dff25",
   "metadata": {},
   "source": [
    "### 8.2. Логические операции и маскирование.\n",
    "\n",
    "Так же над массивами можно выполнять различные логические операции. Логика здесь аналогична логике с арифметическими операциями. Однако, есть одно интересное свойство, полученные булевы массивы можно использовать в качестве масок, т.е. индексировать ими массивы. \n",
    "\n",
    "Рассмотрим пример."
   ]
  },
  {
   "cell_type": "code",
   "execution_count": 95,
   "id": "8559c8b0",
   "metadata": {},
   "outputs": [
    {
     "data": {
      "text/plain": [
       "array([[1, 0, 5, 7, 1],\n",
       "       [2, 8, 1, 2, 8],\n",
       "       [3, 2, 9, 6, 2],\n",
       "       [5, 1, 8, 3, 6],\n",
       "       [4, 4, 0, 4, 7]])"
      ]
     },
     "execution_count": 95,
     "metadata": {},
     "output_type": "execute_result"
    }
   ],
   "source": [
    "array = np.random.randint(0, 10, size=(5, 5))\n",
    "array"
   ]
  },
  {
   "cell_type": "markdown",
   "id": "3de3696f",
   "metadata": {},
   "source": [
    "Предположим, наша задача вывесте все элементы этого массива большие пяти. Это очень легко сделать с помощью маски."
   ]
  },
  {
   "cell_type": "code",
   "execution_count": 96,
   "id": "46ac2910",
   "metadata": {},
   "outputs": [
    {
     "data": {
      "text/plain": [
       "array([[False, False, False,  True, False],\n",
       "       [False,  True, False, False,  True],\n",
       "       [False, False,  True,  True, False],\n",
       "       [False, False,  True, False,  True],\n",
       "       [False, False, False, False,  True]])"
      ]
     },
     "execution_count": 96,
     "metadata": {},
     "output_type": "execute_result"
    }
   ],
   "source": [
    "mask = array > 5\n",
    "mask"
   ]
  },
  {
   "cell_type": "code",
   "execution_count": 97,
   "id": "5c06836d",
   "metadata": {
    "scrolled": true
   },
   "outputs": [
    {
     "data": {
      "text/plain": [
       "array([7, 8, 8, 9, 6, 8, 6, 7])"
      ]
     },
     "execution_count": 97,
     "metadata": {},
     "output_type": "execute_result"
    }
   ],
   "source": [
    "array[mask]"
   ]
  },
  {
   "cell_type": "markdown",
   "id": "ff0152be",
   "metadata": {},
   "source": [
    "Или короче:"
   ]
  },
  {
   "cell_type": "code",
   "execution_count": 98,
   "id": "b9dfdd00",
   "metadata": {},
   "outputs": [
    {
     "data": {
      "text/plain": [
       "array([7, 8, 8, 9, 6, 8, 6, 7])"
      ]
     },
     "execution_count": 98,
     "metadata": {},
     "output_type": "execute_result"
    }
   ],
   "source": [
    "array[array > 5]"
   ]
  },
  {
   "cell_type": "markdown",
   "id": "91f341c1",
   "metadata": {},
   "source": [
    "Также возможно составление сложных условий в маске. Например, теперь мы хотим вывести все нечетные элементы, меньшие или равные пяти."
   ]
  },
  {
   "cell_type": "code",
   "execution_count": 99,
   "id": "50262c56",
   "metadata": {},
   "outputs": [
    {
     "data": {
      "text/plain": [
       "array([1, 0, 5, 7, 1, 2, 1, 2, 3, 2, 9, 2, 5, 1, 3, 4, 4, 0, 4, 7])"
      ]
     },
     "execution_count": 99,
     "metadata": {},
     "output_type": "execute_result"
    }
   ],
   "source": [
    "array[(array <= 5) | (array % 2 == 1)]"
   ]
  },
  {
   "cell_type": "markdown",
   "id": "2128ea76",
   "metadata": {},
   "source": [
    "Обратите внимание, что мы использовали побитовое И для составления сложного условия, а не оператор and."
   ]
  },
  {
   "cell_type": "markdown",
   "id": "82464aa6",
   "metadata": {},
   "source": [
    "### 8.3. Математические функции."
   ]
  },
  {
   "cell_type": "markdown",
   "id": "61e7a8f2",
   "metadata": {},
   "source": [
    "Также в NumPy есть большое количество реализованных математических функций.\n",
    "\n",
    "К их числу относятся:"
   ]
  },
  {
   "cell_type": "markdown",
   "id": "3a5e5df9",
   "metadata": {},
   "source": [
    "**Экспонента:**"
   ]
  },
  {
   "cell_type": "code",
   "execution_count": 95,
   "id": "4c5acb61",
   "metadata": {},
   "outputs": [
    {
     "data": {
      "text/plain": [
       "array([ 0.        ,  1.11111111,  2.22222222,  3.33333333,  4.44444444,\n",
       "        5.55555556,  6.66666667,  7.77777778,  8.88888889, 10.        ])"
      ]
     },
     "execution_count": 95,
     "metadata": {},
     "output_type": "execute_result"
    }
   ],
   "source": [
    "x = np.linspace(0, 10, 10)\n",
    "x"
   ]
  },
  {
   "cell_type": "code",
   "execution_count": 96,
   "id": "0337f212",
   "metadata": {},
   "outputs": [
    {
     "data": {
      "text/plain": [
       "array([1.00000000e+00, 3.03773178e+00, 9.22781435e+00, 2.80316249e+01,\n",
       "       8.51525577e+01, 2.58670631e+02, 7.85771994e+02, 2.38696456e+03,\n",
       "       7.25095809e+03, 2.20264658e+04])"
      ]
     },
     "execution_count": 96,
     "metadata": {},
     "output_type": "execute_result"
    }
   ],
   "source": [
    "np.exp(x)"
   ]
  },
  {
   "cell_type": "markdown",
   "id": "cea5c10c",
   "metadata": {},
   "source": [
    "**Тригонометрические функции:**"
   ]
  },
  {
   "cell_type": "code",
   "execution_count": 97,
   "id": "dde19f4b",
   "metadata": {},
   "outputs": [
    {
     "data": {
      "text/plain": [
       "array([0.        , 0.34906585, 0.6981317 , 1.04719755, 1.3962634 ,\n",
       "       1.74532925, 2.0943951 , 2.44346095, 2.7925268 , 3.14159265])"
      ]
     },
     "execution_count": 97,
     "metadata": {},
     "output_type": "execute_result"
    }
   ],
   "source": [
    "x = np.linspace(0, np.pi, 10)\n",
    "x"
   ]
  },
  {
   "cell_type": "code",
   "execution_count": 98,
   "id": "2168a166",
   "metadata": {},
   "outputs": [
    {
     "data": {
      "text/plain": [
       "array([0.00000000e+00, 3.42020143e-01, 6.42787610e-01, 8.66025404e-01,\n",
       "       9.84807753e-01, 9.84807753e-01, 8.66025404e-01, 6.42787610e-01,\n",
       "       3.42020143e-01, 1.22464680e-16])"
      ]
     },
     "execution_count": 98,
     "metadata": {},
     "output_type": "execute_result"
    }
   ],
   "source": [
    "np.sin(x)"
   ]
  },
  {
   "cell_type": "code",
   "execution_count": 99,
   "id": "4d07e141",
   "metadata": {},
   "outputs": [
    {
     "data": {
      "text/plain": [
       "array([ 1.        ,  0.93969262,  0.76604444,  0.5       ,  0.17364818,\n",
       "       -0.17364818, -0.5       , -0.76604444, -0.93969262, -1.        ])"
      ]
     },
     "execution_count": 99,
     "metadata": {},
     "output_type": "execute_result"
    }
   ],
   "source": [
    "np.cos(x)"
   ]
  },
  {
   "cell_type": "code",
   "execution_count": 100,
   "id": "17ba47c6",
   "metadata": {},
   "outputs": [
    {
     "data": {
      "text/plain": [
       "array([ 0.00000000e+00,  3.63970234e-01,  8.39099631e-01,  1.73205081e+00,\n",
       "        5.67128182e+00, -5.67128182e+00, -1.73205081e+00, -8.39099631e-01,\n",
       "       -3.63970234e-01, -1.22464680e-16])"
      ]
     },
     "execution_count": 100,
     "metadata": {},
     "output_type": "execute_result"
    }
   ],
   "source": [
    "np.tan(x)"
   ]
  },
  {
   "cell_type": "markdown",
   "id": "5283404b",
   "metadata": {},
   "source": [
    "**Обратные тригонометрические функции:**"
   ]
  },
  {
   "cell_type": "code",
   "execution_count": 101,
   "id": "3da555e1",
   "metadata": {},
   "outputs": [
    {
     "data": {
      "text/plain": [
       "array([-1.        , -0.77777778, -0.55555556, -0.33333333, -0.11111111,\n",
       "        0.11111111,  0.33333333,  0.55555556,  0.77777778,  1.        ])"
      ]
     },
     "execution_count": 101,
     "metadata": {},
     "output_type": "execute_result"
    }
   ],
   "source": [
    "x = np.linspace(-1, 1, 10)\n",
    "x"
   ]
  },
  {
   "cell_type": "code",
   "execution_count": 102,
   "id": "11227f78",
   "metadata": {},
   "outputs": [
    {
     "data": {
      "text/plain": [
       "array([-1.57079633, -0.89112251, -0.58903097, -0.33983691, -0.11134101,\n",
       "        0.11134101,  0.33983691,  0.58903097,  0.89112251,  1.57079633])"
      ]
     },
     "execution_count": 102,
     "metadata": {},
     "output_type": "execute_result"
    }
   ],
   "source": [
    "np.arcsin(x)"
   ]
  },
  {
   "cell_type": "code",
   "execution_count": 103,
   "id": "b5e1f4dc",
   "metadata": {},
   "outputs": [
    {
     "data": {
      "text/plain": [
       "array([3.14159265, 2.46191883, 2.1598273 , 1.91063324, 1.68213734,\n",
       "       1.45945531, 1.23095942, 0.98176536, 0.67967382, 0.        ])"
      ]
     },
     "execution_count": 103,
     "metadata": {},
     "output_type": "execute_result"
    }
   ],
   "source": [
    "np.arccos(x)"
   ]
  },
  {
   "cell_type": "code",
   "execution_count": 104,
   "id": "5cacc891",
   "metadata": {},
   "outputs": [
    {
     "data": {
      "text/plain": [
       "array([-1.57079633, -1.22173048, -0.87266463, -0.52359878, -0.17453293,\n",
       "        0.17453293,  0.52359878,  0.87266463,  1.22173048,  1.57079633])"
      ]
     },
     "execution_count": 104,
     "metadata": {},
     "output_type": "execute_result"
    }
   ],
   "source": [
    "x = np.linspace(-0.5 * np.pi, 0.5 * np.pi, 10)\n",
    "x"
   ]
  },
  {
   "cell_type": "code",
   "execution_count": 105,
   "id": "a683ecad",
   "metadata": {},
   "outputs": [
    {
     "data": {
      "text/plain": [
       "array([-1.00388482, -0.88486958, -0.71750578, -0.48234791, -0.17279243,\n",
       "        0.17279243,  0.48234791,  0.71750578,  0.88486958,  1.00388482])"
      ]
     },
     "execution_count": 105,
     "metadata": {},
     "output_type": "execute_result"
    }
   ],
   "source": [
    "np.arctan(x)"
   ]
  },
  {
   "cell_type": "markdown",
   "id": "0fc34227",
   "metadata": {},
   "source": [
    "**Гиперболические функции:**"
   ]
  },
  {
   "cell_type": "code",
   "execution_count": 106,
   "id": "6072b66d",
   "metadata": {},
   "outputs": [],
   "source": [
    "x = np.linspace(-2, 2, 10)"
   ]
  },
  {
   "cell_type": "code",
   "execution_count": 107,
   "id": "f849520c",
   "metadata": {},
   "outputs": [
    {
     "data": {
      "text/plain": [
       "array([3.76219569, 2.47439497, 1.68346238, 1.23057558, 1.02479314,\n",
       "       1.02479314, 1.23057558, 1.68346238, 2.47439497, 3.76219569])"
      ]
     },
     "execution_count": 107,
     "metadata": {},
     "output_type": "execute_result"
    }
   ],
   "source": [
    "np.cosh(x)"
   ]
  },
  {
   "cell_type": "code",
   "execution_count": 108,
   "id": "87315cb2",
   "metadata": {},
   "outputs": [
    {
     "data": {
      "text/plain": [
       "array([-3.62686041, -2.26332289, -1.35426939, -0.71715846, -0.22405573,\n",
       "        0.22405573,  0.71715846,  1.35426939,  2.26332289,  3.62686041])"
      ]
     },
     "execution_count": 108,
     "metadata": {},
     "output_type": "execute_result"
    }
   ],
   "source": [
    "np.sinh(x)"
   ]
  },
  {
   "cell_type": "code",
   "execution_count": 109,
   "id": "988f65a1",
   "metadata": {},
   "outputs": [
    {
     "data": {
      "text/plain": [
       "array([-0.96402758, -0.9146975 , -0.8044548 , -0.58278295, -0.21863508,\n",
       "        0.21863508,  0.58278295,  0.8044548 ,  0.9146975 ,  0.96402758])"
      ]
     },
     "execution_count": 109,
     "metadata": {},
     "output_type": "execute_result"
    }
   ],
   "source": [
    "np.tanh(x)"
   ]
  },
  {
   "cell_type": "markdown",
   "id": "c08c8ff2",
   "metadata": {},
   "source": [
    "**Обратные гиперболические функции:**"
   ]
  },
  {
   "cell_type": "code",
   "execution_count": 110,
   "id": "1515ff96",
   "metadata": {},
   "outputs": [
    {
     "data": {
      "text/plain": [
       "array([-1.44363548, -1.22519002, -0.95780045, -0.62514512, -0.22043272,\n",
       "        0.22043272,  0.62514512,  0.95780045,  1.22519002,  1.44363548])"
      ]
     },
     "execution_count": 110,
     "metadata": {},
     "output_type": "execute_result"
    }
   ],
   "source": [
    "np.arcsinh(x)"
   ]
  },
  {
   "cell_type": "code",
   "execution_count": 111,
   "id": "8063bbad",
   "metadata": {},
   "outputs": [
    {
     "data": {
      "text/plain": [
       "array([1.76274717, 1.59073092, 1.37885567, 1.09861229, 0.6549003 ,\n",
       "       0.6549003 , 1.09861229, 1.37885567, 1.59073092, 1.76274717])"
      ]
     },
     "execution_count": 111,
     "metadata": {},
     "output_type": "execute_result"
    }
   ],
   "source": [
    "np.arccosh(np.abs(x) + 1)"
   ]
  },
  {
   "cell_type": "markdown",
   "id": "589a7b32",
   "metadata": {},
   "source": [
    "**Модуль:**"
   ]
  },
  {
   "cell_type": "code",
   "execution_count": 112,
   "id": "3bae2f0e",
   "metadata": {},
   "outputs": [
    {
     "data": {
      "text/plain": [
       "array([-10.        ,  -8.57142857,  -7.14285714,  -5.71428571,\n",
       "        -4.28571429,  -2.85714286,  -1.42857143,   0.        ,\n",
       "         1.42857143,   2.85714286,   4.28571429,   5.71428571,\n",
       "         7.14285714,   8.57142857,  10.        ])"
      ]
     },
     "execution_count": 112,
     "metadata": {},
     "output_type": "execute_result"
    }
   ],
   "source": [
    "x = np.linspace(-10, 10, 15)\n",
    "x"
   ]
  },
  {
   "cell_type": "code",
   "execution_count": 113,
   "id": "726d9566",
   "metadata": {},
   "outputs": [
    {
     "data": {
      "text/plain": [
       "array([10.        ,  8.57142857,  7.14285714,  5.71428571,  4.28571429,\n",
       "        2.85714286,  1.42857143,  0.        ,  1.42857143,  2.85714286,\n",
       "        4.28571429,  5.71428571,  7.14285714,  8.57142857, 10.        ])"
      ]
     },
     "execution_count": 113,
     "metadata": {},
     "output_type": "execute_result"
    }
   ],
   "source": [
    "np.abs(x)"
   ]
  },
  {
   "cell_type": "markdown",
   "id": "97c93a3e",
   "metadata": {},
   "source": [
    "**Специальные функции:**"
   ]
  },
  {
   "cell_type": "code",
   "execution_count": 114,
   "id": "ccf8a4e9",
   "metadata": {},
   "outputs": [
    {
     "data": {
      "text/plain": [
       "array([-10.        ,  -8.57142857,  -7.14285714,  -5.71428571,\n",
       "        -4.28571429,  -2.85714286,  -1.42857143,   0.        ,\n",
       "         1.42857143,   2.85714286,   4.28571429,   5.71428571,\n",
       "         7.14285714,   8.57142857,  10.        ])"
      ]
     },
     "execution_count": 114,
     "metadata": {},
     "output_type": "execute_result"
    }
   ],
   "source": [
    "x"
   ]
  },
  {
   "cell_type": "code",
   "execution_count": 115,
   "id": "bace91e6",
   "metadata": {},
   "outputs": [
    {
     "data": {
      "text/plain": [
       "array([-3.89817183e-17,  3.62050725e-02, -1.93353277e-02, -4.35513208e-02,\n",
       "        5.80684277e-02,  4.83383193e-02, -2.17230435e-01,  1.00000000e+00,\n",
       "       -2.17230435e-01,  4.83383193e-02,  5.80684277e-02, -4.35513208e-02,\n",
       "       -1.93353277e-02,  3.62050725e-02, -3.89817183e-17])"
      ]
     },
     "execution_count": 115,
     "metadata": {},
     "output_type": "execute_result"
    }
   ],
   "source": [
    "np.sinc(x)"
   ]
  }
 ],
 "metadata": {
  "kernelspec": {
   "display_name": "Python 3 (ipykernel)",
   "language": "python",
   "name": "python3"
  },
  "language_info": {
   "codemirror_mode": {
    "name": "ipython",
    "version": 3
   },
   "file_extension": ".py",
   "mimetype": "text/x-python",
   "name": "python",
   "nbconvert_exporter": "python",
   "pygments_lexer": "ipython3",
   "version": "3.9.12"
  }
 },
 "nbformat": 4,
 "nbformat_minor": 5
}
